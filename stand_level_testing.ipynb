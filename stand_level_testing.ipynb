{
 "cells": [
  {
   "cell_type": "markdown",
   "metadata": {},
   "source": [
    "# LibCBM versus CBM-CFS3 Stand level testing"
   ]
  },
  {
   "cell_type": "code",
   "execution_count": 1,
   "metadata": {},
   "outputs": [],
   "source": [
    "import os, json, math\n",
    "import numpy as np\n",
    "import pandas as pd\n",
    "%matplotlib inline\n"
   ]
  },
  {
   "cell_type": "markdown",
   "metadata": {},
   "source": [
    "libCBM related imports"
   ]
  },
  {
   "cell_type": "code",
   "execution_count": 2,
   "metadata": {},
   "outputs": [],
   "source": [
    "from libcbmwrapper import LibCBMWrapper\n",
    "import libcbmconfig\n",
    "import cbmconfig\n",
    "import cbm_defaults\n",
    "from cbm3 import CBM3"
   ]
  },
  {
   "cell_type": "markdown",
   "metadata": {},
   "source": [
    "cbm3 related imports"
   ]
  },
  {
   "cell_type": "code",
   "execution_count": 3,
   "metadata": {},
   "outputs": [],
   "source": [
    "import cbm3_python_helper\n",
    "cbm3_python_helper.load_cbm3_python()\n",
    "import cbm3_python.simulation.projectsimulator\n",
    "from cbm3_python.cbm3data import sit_helper\n",
    "from cbm3_python.cbm3data import cbm3_results"
   ]
  },
  {
   "cell_type": "code",
   "execution_count": 4,
   "metadata": {},
   "outputs": [],
   "source": [
    "db_path = 'C:\\dev\\cbm_defaults\\cbm_defaults.db'\n",
    "n_steps = 225\n",
    "\n",
    "age_interval = 5 #required by cbm3\n",
    "num_age_classes = 40 #required by cbm3\n",
    "\n",
    "def get_classifier_name(id):\n",
    "    return str(id)\n",
    "\n",
    "def growth_curve(x, x_0=65, L=250, k=0.1 ):\n",
    "    return (x, L/(1+math.exp(-k*(x-x_0))))\n",
    "    \n",
    "def create_scenario(id, admin_boundary, eco_boundary, components, events):\n",
    "    return {\n",
    "        \"id\":id,\n",
    "        \"admin_boundary\": admin_boundary,\n",
    "        \"eco_boundary\": eco_boundary,\n",
    "        \"components\": components,\n",
    "        \"events\": events\n",
    "    }\n",
    "\n",
    "def generate_scenarios(random_seed, num_cases, dbpath, ndigits):\n",
    "    np.random.seed(random_seed)\n",
    "    species_ref = cbm_defaults.load_species_reference(dbpath, \"en-CA\")\n",
    "    species = [k for k,v in species_ref.items() if len(k)<50 and v[\"forest_type_id\"] in [1,3]] #exclude species names that are too long for the project database schema\n",
    "    \n",
    "    spatial_units = cbm_defaults.get_spatial_unit_ids_by_admin_eco_name(dbpath, \"en-CA\")\n",
    "    random_spus = np.random.choice([\",\".join(x) for x in spatial_units.keys()], num_cases)\n",
    "    \n",
    "    disturbance_types = cbm_defaults.get_disturbance_type_ids_by_name(dbpath, \"en-CA\")\n",
    "    \n",
    "    cases = []\n",
    "    for i in range(num_cases):\n",
    "        num_components = np.random.randint(1,5)\n",
    "        random_species = np.random.choice(list(species), num_components)\n",
    "        spu = random_spus[i].split(',')\n",
    "        components = []\n",
    "        for c in range(num_components):\n",
    "            components.append({\n",
    "                \"species\": random_species[c],\n",
    "                \"age_volume_pairs\": [growth_curve(x) for x in range(0,200,age_interval)]\n",
    "            })\n",
    "\n",
    "        num_disturbances = np.random.randint(0,3)\n",
    "        random_dist_types = np.random.choice(list(disturbance_types), num_disturbances)\n",
    "        disturbance_events = []\n",
    "        min_timestep = 0\n",
    "        for d in range(num_disturbances):\n",
    "            \n",
    "            disturbance_events.append({\n",
    "             \"disturbance_type\": random_dist_types[d],\n",
    "             \"time_step\": np.random.randint(min_timestep, n_steps)\n",
    "            })\n",
    "            \n",
    "        cases.append(create_scenario(\n",
    "            id = i+1,\n",
    "            admin_boundary = spu[0],\n",
    "            eco_boundary = spu[1],\n",
    "            components = components,\n",
    "            events = disturbance_events ))\n",
    "    return cases"
   ]
  },
  {
   "cell_type": "code",
   "execution_count": 5,
   "metadata": {},
   "outputs": [],
   "source": [
    "cases = generate_scenarios(1, 1, db_path, 2)\n",
    "\n",
    "#pd.DataFrame({\"x\": list(range(0, 200 , 5)), \"y\": [growth_curve(x,65,100,0.1) for x in range(0, 200 , 5)]}).groupby(\"x\").sum().plot()\n",
    "#list(range(0, 200 , 20))"
   ]
  },
  {
   "cell_type": "code",
   "execution_count": 6,
   "metadata": {},
   "outputs": [],
   "source": [
    "def run_libCBM(dbpath, cases, nsteps, spinup_debug = False):\n",
    "    \n",
    "    dllpath = r'C:\\dev\\LibCBM\\LibCBM\\x64\\Debug\\LibCBM.dll'\n",
    "\n",
    "    dlldir = os.path.dirname(dllpath)\n",
    "    cwd = os.getcwd()\n",
    "    os.chdir(dlldir)\n",
    "    dll = LibCBMWrapper(dllpath)\n",
    "    os.chdir(cwd)\n",
    "    \n",
    "    pooldef = cbm_defaults.load_cbm_pools(dbpath)\n",
    "    dll.Initialize(libcbmconfig.to_string(\n",
    "        {\n",
    "            \"pools\": pooldef,\n",
    "            \"flux_indicators\": cbm_defaults.load_flux_indicators(dbpath)\n",
    "        }))\n",
    "    \n",
    "    #create a single classifier/classifier value for the single growth curve\n",
    "    classifiers_config = cbmconfig.classifier_config([\n",
    "        cbmconfig.classifier(\"growth_curve\", [\n",
    "            cbmconfig.classifier_value(get_classifier_name(c[\"id\"])) \n",
    "            for c in cases\n",
    "        ])\n",
    "    ])\n",
    "\n",
    "\n",
    "    transitions_config = []\n",
    "    species_reference = cbm_defaults.load_species_reference(dbpath, \"en-CA\")\n",
    "    spatial_unit_reference = cbm_defaults.get_spatial_unit_ids_by_admin_eco_name(dbpath, \"en-CA\")\n",
    "    disturbance_types = cbm_defaults.get_disturbance_type_ids_by_name(dbpath, \"en-CA\")\n",
    "    curves = []\n",
    "    for c in cases:\n",
    "        classifier_set = [get_classifier_name(c[\"id\"])]\n",
    "        merch_volumes = []\n",
    "        for component in c[\"components\"]:\n",
    "            merch_volumes.append({\n",
    "                \"species_id\": species_reference[component[\"species\"]][\"species_id\"],\n",
    "                \"age_volume_pairs\": component[\"age_volume_pairs\"]\n",
    "            })\n",
    "\n",
    "        curve = cbmconfig.merch_volume_curve(\n",
    "            classifier_set = classifier_set,\n",
    "            merch_volumes = merch_volumes)\n",
    "        curves.append(curve)\n",
    "\n",
    "    merch_volume_to_biomass_config = cbmconfig.merch_volume_to_biomass_config(\n",
    "        dbpath, curves)\n",
    "\n",
    "    dll.InitializeCBM(libcbmconfig.to_string({\n",
    "        \"cbm_defaults\": cbm_defaults.load_cbm_parameters(dbpath),\n",
    "        \"merch_volume_to_biomass\": merch_volume_to_biomass_config,\n",
    "        \"classifiers\": classifiers_config[\"classifiers\"],\n",
    "        \"classifier_values\": classifiers_config[\"classifier_values\"],\n",
    "        \"transitions\": []\n",
    "    }))    \n",
    "\n",
    "    nstands = len(cases)\n",
    "    age = np.zeros(nstands,dtype=np.int32)\n",
    "    classifiers = np.zeros((nstands,1),dtype=np.int32)\n",
    "    classifiers[:,0]=[classifiers_config[\"classifier_index\"][0][get_classifier_name(c[\"id\"])] for c in cases]\n",
    "         \n",
    "    spatial_units = np.array(\n",
    "        [spatial_unit_reference[(c[\"admin_boundary\"],c[\"eco_boundary\"])]\n",
    "            for c in cases],dtype=np.int32)\n",
    "    pools = np.zeros((nstands,len(pooldef)))\n",
    "    cbm3 = CBM3(dll)\n",
    "    pool_result = pd.DataFrame()\n",
    "    \n",
    "    spinup_debug = cbm3.spinup(\n",
    "        pools=pools,\n",
    "        classifiers=classifiers,\n",
    "        inventory_age=0,\n",
    "        spatial_unit=spatial_units,\n",
    "        historic_disturbance_type=disturbance_types[\"Wildfire\"],\n",
    "        last_pass_disturbance_type=disturbance_types[\"Wildfire\"],\n",
    "        return_interval=125,\n",
    "        min_rotations=10,\n",
    "        max_rotations=30,\n",
    "        delay=0,\n",
    "        mean_annual_temp=None,\n",
    "        debug=spinup_debug)\n",
    "    \n",
    "    iteration_result = pd.DataFrame({x[\"name\"]: pools[:,x[\"index\"]] for x in pooldef})\n",
    "    iteration_result.insert(0, \"age\", age+1)\n",
    "    iteration_result.reset_index(level=0, inplace=True)\n",
    "    pool_result = pool_result.append(iteration_result)\n",
    "    \n",
    "    return {\"pools\": pool_result, \"spinup_debug\": spinup_debug}"
   ]
  },
  {
   "cell_type": "code",
   "execution_count": 7,
   "metadata": {},
   "outputs": [],
   "source": [
    "def run_CBM3(cases, age_interval, num_age_classes, nsteps):\n",
    "    standard_import_tool_plugin_path=sit_helper.load_standard_import_tool_plugin()\n",
    "\n",
    "    toolbox_path = r\"C:\\Program Files (x86)\\Operational-Scale CBM-CFS3\"\n",
    "\n",
    "    #there is a bug fix in this version of cbm/makelist for growth incrment blips\n",
    "    cbm_exe_path = r\"M:\\CBM Tools and Development\\Builds\\CBMBuilds\\20190530_growth_increment_fix\"\n",
    "\n",
    "    cbm3_project_dir = os.path.join(toolbox_path, \"Projects\", \"libcbm_stand_level_testing\")\n",
    "    cbm3_project_path = os.path.join(cbm3_project_dir, \"libcbm_stand_level_testing.mdb\")\n",
    "    cbm3_results_db_path = os.path.join(cbm3_project_dir, \"libcbm_stand_level_testing_results.mdb\")\n",
    "    config_save_path = os.path.join(cbm3_project_dir, \"libcbm_stand_level_testing.json\")\n",
    "    sit_config = sit_helper.SITConfig(\n",
    "        imported_project_path=cbm3_project_path,\n",
    "        initialize_mapping=True\n",
    "    )\n",
    "    sit_config.data_config(\n",
    "        age_class_size=age_interval,\n",
    "        num_age_classes=num_age_classes,\n",
    "        classifiers=[\"admin\", \"eco\", \"identifier\", \"species\"])\n",
    "    sit_config.set_admin_eco_mapping(\"admin\",\"eco\")\n",
    "    sit_config.set_species_classifier(\"species\")\n",
    "    for c in cases:\n",
    "        cset = [c[\"admin_boundary\"], c[\"eco_boundary\"], get_classifier_name(c[\"id\"]), \"Spruce\"]\n",
    "        sit_config.add_inventory(classifier_set=cset, area=1, age=0, unfccc_land_class=0,\n",
    "                            historic_disturbance=\"Wildfire\", last_pass_disturbance=\"Wildfire\")\n",
    "        for component in c[\"components\"]:\n",
    "            sit_config.add_yield(classifier_set=cset, \n",
    "                        leading_species_classifier_value=component[\"species\"],\n",
    "                        values=[x[1] for x in component[\"age_volume_pairs\"]])\n",
    "        for event in c[\"events\"]:\n",
    "            sit_config.add_event(\n",
    "                classifier_set=cset,\n",
    "                disturbance_type=event[\"disturbance_type\"],\n",
    "                time_step=event[\"time_step\"],\n",
    "                target=1,\n",
    "                target_type = \"Area\",\n",
    "                sort = \"SORT_BY_SW_AGE\")\n",
    "    sit_config.add_event(\n",
    "        classifier_set=[\"?\",\"?\",\"?\",\"?\"],\n",
    "        disturbance_type=\"Wildfire\",\n",
    "        time_step=nsteps+1,\n",
    "        target=1,\n",
    "        target_type = \"Area\",\n",
    "        sort = \"SORT_BY_SW_AGE\")\n",
    "    sit_config.import_project(standard_import_tool_plugin_path, config_save_path)\n",
    "    cbm3_python.simulation.projectsimulator.run(\n",
    "        aidb_path=os.path.join(toolbox_path, \"admin\", \"dbs\", \"ArchiveIndex_Beta_Install.mdb\"), \n",
    "        project_path=cbm3_project_path, \n",
    "        toolbox_installation_dir=toolbox_path,\n",
    "        cbm_exe_path=cbm_exe_path,\n",
    "        results_database_path = cbm3_results_db_path)\n",
    "    return cbm3_results_db_path\n",
    "    "
   ]
  },
  {
   "cell_type": "code",
   "execution_count": 8,
   "metadata": {},
   "outputs": [],
   "source": [
    "libCBM_result = run_libCBM(db_path, cases, n_steps, spinup_debug=True)\n",
    "libCBM_pool_result = libCBM_result[\"pools\"]\n",
    "libCBM_pool_result[\"identifier\"] = (libCBM_pool_result[\"index\"]+1).apply(get_classifier_name)\n",
    "libCBM_spinup_debug = libCBM_result[\"spinup_debug\"]"
   ]
  },
  {
   "cell_type": "code",
   "execution_count": 9,
   "metadata": {},
   "outputs": [],
   "source": [
    "cbm3_results_db_path = run_CBM3(cases, age_interval, num_age_classes, n_steps)\n",
    "cbm3_result = cbm3_results.load_pool_indicators(cbm3_results_db_path, classifier_set_grouping=True)\n",
    "cbm3_result[\"age\"] = cbm3_result[\"TimeStep\"]"
   ]
  },
  {
   "cell_type": "code",
   "execution_count": 10,
   "metadata": {},
   "outputs": [],
   "source": [
    "\n",
    "libCBM_biomass = libCBM_pool_result[['identifier','age', 'SoftwoodMerch', 'SoftwoodFoliage', \n",
    "               'SoftwoodOther', 'SoftwoodCoarseRoots', 'SoftwoodFineRoots',\n",
    "               'HardwoodMerch', 'HardwoodFoliage', 'HardwoodOther',\n",
    "               'HardwoodCoarseRoots', 'HardwoodFineRoots']]\n",
    "\n",
    "cbm3_biomass = cbm3_result[['identifier','age', 'Softwood Merchantable', 'Softwood Foliage',\n",
    "             'Softwood Other', 'Softwood Coarse Roots', 'Softwood Fine Roots',\n",
    "             'Hardwood Merchantable', 'Hardwood Foliage', 'Hardwood Other',\n",
    "             'Hardwood Coarse Roots', 'Hardwood Fine Roots']]\n",
    "\n",
    "#make column naming consistent\n",
    "cbm3_biomass = cbm3_biomass.rename(columns = {\n",
    "    'Softwood Merchantable': 'SoftwoodMerch',\n",
    "    'Softwood Foliage': 'SoftwoodFoliage',\n",
    "    'Softwood Other': 'SoftwoodOther',\n",
    "    'Softwood Coarse Roots': 'SoftwoodCoarseRoots',\n",
    "    'Softwood Fine Roots': 'SoftwoodFineRoots',\n",
    "    'Hardwood Merchantable': 'HardwoodMerch',\n",
    "    'Hardwood Foliage': 'HardwoodFoliage',\n",
    "    'Hardwood Other': 'HardwoodOther',\n",
    "    'Hardwood Coarse Roots': 'HardwoodCoarseRoots',\n",
    "    'Hardwood Fine Roots': 'HardwoodFineRoots'})\n",
    "\n",
    "merged = libCBM_biomass.merge(cbm3_biomass,\n",
    "                              left_on=['identifier','age'],\n",
    "                              right_on=['identifier','age'],\n",
    "                              suffixes=(\"_libCBM\",\"_cbm3\"))\n",
    "\n",
    "diff_colnames = []\n",
    "cbm3_colnames = []\n",
    "libCBM_colnames = []\n",
    "merged[\"total_diff\"]=0\n",
    "#compute diffs row-by-row\n",
    "for pool in ['SoftwoodMerch', 'SoftwoodFoliage', 'SoftwoodOther', 'SoftwoodCoarseRoots',\n",
    "             'SoftwoodFineRoots','HardwoodMerch', 'HardwoodFoliage', 'HardwoodOther',\n",
    "             'HardwoodCoarseRoots', 'HardwoodFineRoots']:\n",
    "    \n",
    "    d = \"{}_diff\".format(pool)\n",
    "    l = \"{}_libCBM\".format(pool)\n",
    "    r = \"{}_cbm3\".format(pool)\n",
    "    diff_colnames.append(d)\n",
    "    cbm3_colnames.append(r)\n",
    "    libCBM_colnames.append(l)\n",
    "    merged[d] = (merged[l] - merged[r])\n",
    "    merged[\"total_diff\"]+=merged[d]\n",
    "merged[\"total_diff\"] = merged[\"total_diff\"].abs()"
   ]
  },
  {
   "cell_type": "code",
   "execution_count": 11,
   "metadata": {},
   "outputs": [
    {
     "data": {
      "text/plain": [
       "<matplotlib.axes._subplots.AxesSubplot at 0x10446780>"
      ]
     },
     "execution_count": 11,
     "metadata": {},
     "output_type": "execute_result"
    },
    {
     "data": {
      "image/png": "[encoded data removed]",
      "text/plain": [
       "<Figure size 1080x720 with 1 Axes>"
      ]
     },
     "metadata": {
      "needs_background": "light"
     },
     "output_type": "display_data"
    }
   ],
   "source": [
    "merged[[\"identifier\"]+diff_colnames+[\"total_diff\"]] \\\n",
    "    .groupby(\"identifier\").sum() \\\n",
    "    .sort_values(\"total_diff\", ascending=False) \\\n",
    "    .head(20) \\\n",
    "    .plot(figsize=(15,10), kind=\"bar\")"
   ]
  },
  {
   "cell_type": "code",
   "execution_count": 16,
   "metadata": {},
   "outputs": [
    {
     "data": {
      "text/plain": [
       "<matplotlib.axes._subplots.AxesSubplot at 0x12203940>"
      ]
     },
     "execution_count": 16,
     "metadata": {},
     "output_type": "execute_result"
    },
    {
     "data": {
      "image/png": "[encoded data removed]",
      "text/plain": [
       "<Figure size 432x288 with 1 Axes>"
      ]
     },
     "metadata": {
      "needs_background": "light"
     },
     "output_type": "display_data"
    }
   ],
   "source": [
    "libCBM_spinup_debug.loc[libCBM_spinup_debug[\"index\"]==0] \\\n",
    "    [[\"iteration\",\"rotation\",\"spinup_state\"]].groupby(\"iteration\").sum().plot()"
   ]
  },
  {
   "cell_type": "code",
   "execution_count": 17,
   "metadata": {},
   "outputs": [
    {
     "data": {
      "text/html": [
       "<div>\n",
       "<style scoped>\n",
       "    .dataframe tbody tr th:only-of-type {\n",
       "        vertical-align: middle;\n",
       "    }\n",
       "\n",
       "    .dataframe tbody tr th {\n",
       "        vertical-align: top;\n",
       "    }\n",
       "\n",
       "    .dataframe thead th {\n",
       "        text-align: right;\n",
       "    }\n",
       "</style>\n",
       "<table border=\"1\" class=\"dataframe\">\n",
       "  <thead>\n",
       "    <tr style=\"text-align: right;\">\n",
       "      <th></th>\n",
       "      <th>index</th>\n",
       "      <th>age</th>\n",
       "      <th>Input</th>\n",
       "      <th>SoftwoodMerch</th>\n",
       "      <th>SoftwoodFoliage</th>\n",
       "      <th>SoftwoodOther</th>\n",
       "      <th>SoftwoodCoarseRoots</th>\n",
       "      <th>SoftwoodFineRoots</th>\n",
       "      <th>HardwoodMerch</th>\n",
       "      <th>HardwoodFoliage</th>\n",
       "      <th>...</th>\n",
       "      <th>SoftwoodStemSnag</th>\n",
       "      <th>SoftwoodBranchSnag</th>\n",
       "      <th>HardwoodStemSnag</th>\n",
       "      <th>HardwoodBranchSnag</th>\n",
       "      <th>CO2</th>\n",
       "      <th>CH4</th>\n",
       "      <th>CO</th>\n",
       "      <th>NO2</th>\n",
       "      <th>Products</th>\n",
       "      <th>identifier</th>\n",
       "    </tr>\n",
       "  </thead>\n",
       "  <tbody>\n",
       "    <tr>\n",
       "      <th>0</th>\n",
       "      <td>0</td>\n",
       "      <td>1</td>\n",
       "      <td>1.0</td>\n",
       "      <td>0.0</td>\n",
       "      <td>0.0</td>\n",
       "      <td>0.0</td>\n",
       "      <td>0.0</td>\n",
       "      <td>0.0</td>\n",
       "      <td>237.639754</td>\n",
       "      <td>6.180137</td>\n",
       "      <td>...</td>\n",
       "      <td>0.0</td>\n",
       "      <td>0.0</td>\n",
       "      <td>32.204156</td>\n",
       "      <td>3.785025</td>\n",
       "      <td>17842.820246</td>\n",
       "      <td>15.120264</td>\n",
       "      <td>136.082859</td>\n",
       "      <td>0.0</td>\n",
       "      <td>0.0</td>\n",
       "      <td>1</td>\n",
       "    </tr>\n",
       "  </tbody>\n",
       "</table>\n",
       "<p>1 rows × 30 columns</p>\n",
       "</div>"
      ],
      "text/plain": [
       "   index  age  Input  SoftwoodMerch  SoftwoodFoliage  SoftwoodOther  \\\n",
       "0      0    1    1.0            0.0              0.0            0.0   \n",
       "\n",
       "   SoftwoodCoarseRoots  SoftwoodFineRoots  HardwoodMerch  HardwoodFoliage  \\\n",
       "0                  0.0                0.0     237.639754         6.180137   \n",
       "\n",
       "   ...  SoftwoodStemSnag  SoftwoodBranchSnag  HardwoodStemSnag  \\\n",
       "0  ...               0.0                 0.0         32.204156   \n",
       "\n",
       "   HardwoodBranchSnag           CO2        CH4          CO  NO2  Products  \\\n",
       "0            3.785025  17842.820246  15.120264  136.082859  0.0       0.0   \n",
       "\n",
       "   identifier  \n",
       "0           1  \n",
       "\n",
       "[1 rows x 30 columns]"
      ]
     },
     "execution_count": 17,
     "metadata": {},
     "output_type": "execute_result"
    }
   ],
   "source": [
    "libCBM_pool_result.tail()"
   ]
  },
  {
   "cell_type": "code",
   "execution_count": null,
   "metadata": {},
   "outputs": [],
   "source": []
  }
 ],
 "metadata": {
  "kernelspec": {
   "display_name": "Python 3",
   "language": "python",
   "name": "python3"
  },
  "language_info": {
   "codemirror_mode": {
    "name": "ipython",
    "version": 3
   },
   "file_extension": ".py",
   "mimetype": "text/x-python",
   "name": "python",
   "nbconvert_exporter": "python",
   "pygments_lexer": "ipython3",
   "version": "3.7.1"
  }
 },
 "nbformat": 4,
 "nbformat_minor": 2
}
