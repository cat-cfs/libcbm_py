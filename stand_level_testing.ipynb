{
 "cells": [
  {
   "cell_type": "code",
   "execution_count": 1,
   "metadata": {},
   "outputs": [],
   "source": [
    "import os, json, math\n",
    "import numpy as np\n",
    "import pandas as pd\n",
    "%matplotlib inline\n"
   ]
  },
  {
   "cell_type": "code",
   "execution_count": 2,
   "metadata": {},
   "outputs": [],
   "source": [
    "from libcbmwrapper import LibCBMWrapper\n",
    "import libcbmconfig\n",
    "import cbmconfig\n",
    "import cbm_defaults"
   ]
  },
  {
   "cell_type": "code",
   "execution_count": 4,
   "metadata": {},
   "outputs": [],
   "source": [
    "import cbm3_python_helper\n",
    "cbm3_python_helper.load_cbm3_python()\n",
    "import cbm3_python.simulation.projectsimulator\n",
    "from cbm3_python.cbm3data import sit_helper\n",
    "from cbm3_python.cbm3data import cbm3_results"
   ]
  },
  {
   "cell_type": "code",
   "execution_count": null,
   "metadata": {},
   "outputs": [],
   "source": []
  },
  {
   "cell_type": "code",
   "execution_count": null,
   "metadata": {},
   "outputs": [],
   "source": [
    "\n",
    "standard_import_tool_plugin_path=sit_helper.load_standard_import_tool_plugin()\n",
    "\n",
    "toolbox_path = r\"C:\\Program Files (x86)\\Operational-Scale CBM-CFS3\"\n",
    "\n",
    "#there is a bug fix in this version of cbm/makelist for growth incrment blips\n",
    "cbm_exe_path = r\"M:\\CBM Tools and Development\\Builds\\CBMBuilds\\20190530_growth_increment_fix\"\n",
    "\n",
    "cbm3_project_dir = os.path.join(toolbox_path, \"Projects\", \"libcbm_stand_level_testing\")\n",
    "cbm3_project_path = os.path.join(cbm3_project_dir, \"libcbm_stand_level_testing.mdb\")\n",
    "cbm3_results_db_path = os.path.join(cbm3_project_dir, \"libcbm_stand_level_testing_results.mdb\")\n",
    "config_save_path = os.path.join(cbm3_project_dir, \"libcbm_stand_level_testing.json\")\n",
    "sit_config = sit_helper.SITConfig(\n",
    "    imported_project_path=cbm3_project_path,\n",
    "    initialize_mapping=True\n",
    ")\n",
    "sit_config.data_config(\n",
    "    age_class_size=age_interval,\n",
    "    num_age_classes=num_age_classes,\n",
    "    classifiers=[\"admin\", \"eco\", \"identifier\", \"species\"])\n",
    "sit_config.set_admin_eco_mapping(\"admin\",\"eco\")\n",
    "sit_config.set_species_classifier(\"species\")"
   ]
  }
 ],
 "metadata": {
  "kernelspec": {
   "display_name": "Python 3",
   "language": "python",
   "name": "python3"
  },
  "language_info": {
   "codemirror_mode": {
    "name": "ipython",
    "version": 3
   },
   "file_extension": ".py",
   "mimetype": "text/x-python",
   "name": "python",
   "nbconvert_exporter": "python",
   "pygments_lexer": "ipython3",
   "version": "3.7.1"
  }
 },
 "nbformat": 4,
 "nbformat_minor": 2
}
