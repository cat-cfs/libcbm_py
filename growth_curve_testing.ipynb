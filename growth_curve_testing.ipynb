{
 "cells": [
  {
   "cell_type": "code",
   "execution_count": 38,
   "metadata": {},
   "outputs": [],
   "source": [
    "import os, json\n",
    "import numpy as np\n",
    "import pandas as pd\n",
    "%matplotlib inline"
   ]
  },
  {
   "cell_type": "code",
   "execution_count": 39,
   "metadata": {},
   "outputs": [],
   "source": [
    "from libcbmwrapper import LibCBMWrapper\n",
    "import libcbmconfig\n",
    "import cbm_defaults\n",
    "dllpath = r'C:\\dev\\LibCBM\\LibCBM\\x64\\Debug\\LibCBM.dll'\n",
    "dbpath = 'C:\\dev\\cbm_defaults\\cbm_defaults.db'\n",
    "dlldir = os.path.dirname(dllpath)\n",
    "cwd = os.getcwd()\n",
    "os.chdir(dlldir)\n",
    "dll = LibCBMWrapper(dllpath)\n",
    "os.chdir(cwd)"
   ]
  },
  {
   "cell_type": "code",
   "execution_count": 40,
   "metadata": {},
   "outputs": [],
   "source": [
    "import cbm3_python_helper\n",
    "cbm3_python_helper.load_cbm3_python()\n",
    "import cbm3_python.simulation.projectsimulator\n",
    "from cbm3_python.cbm3data import sit_helper\n",
    "from cbm3_python.cbm3data import cbm3_results\n",
    "standard_import_tool_plugin_path=sit_helper.load_standard_import_tool_plugin()"
   ]
  },
  {
   "cell_type": "code",
   "execution_count": 41,
   "metadata": {},
   "outputs": [],
   "source": [
    "classifier_name = \"growth_curve\"\n",
    "n_steps = 300\n",
    "\n",
    "age_interval = 10 #required by cbm3\n",
    "num_age_classes = 20 #required by cbm3\n",
    "def get_classifier_name(id):\n",
    "    return \"growth_curve_{0}\".format(id)\n",
    "def create_growth_curve(id, admin_boundary, eco_boundary, softwood_species=None, \n",
    "                        softwood_age_volume_pairs=None, hardwood_species=None, \n",
    "                        hardwood_age_volume_pairs=None):\n",
    "    return {\n",
    "        \"id\":id,\n",
    "        \"admin_boundary\": admin_boundary,\n",
    "        \"eco_boundary\": eco_boundary,\n",
    "        \"softwood_species\": softwood_species,\n",
    "        \"softwood_age_volume_pairs\": softwood_age_volume_pairs,\n",
    "        \"hardwood_species\": hardwood_species,\n",
    "        \"hardwood_age_volume_pairs\": hardwood_age_volume_pairs\n",
    "    }\n",
    "cases = [create_growth_curve(1, \"British Columbia\", \"Pacific Maritime\", \"Spruce\", [ (0, 0.0),\n",
    "                    (10, 10.0),\n",
    "                    (20, 15.0),\n",
    "                    (30, 20.0),\n",
    "                    (40, 25.0),\n",
    "                    (50, 30.0),\n",
    "                    (60, 35.0),\n",
    "                    (70, 40.0),\n",
    "                    (80, 45.0),\n",
    "                    (90, 50.0),\n",
    "                    (100, 55.0),\n",
    "                    (110, 60.0),\n",
    "                    (120, 65.0),\n",
    "                    (130, 70.0),\n",
    "                    (140, 75.0),\n",
    "                    (150, 80.0),\n",
    "                    (160, 85.625),\n",
    "                    (170, 90.73529412),\n",
    "                    (180, 95.84558824),\n",
    "                    (190, 100.9558824)] )]"
   ]
  },
  {
   "cell_type": "code",
   "execution_count": 55,
   "metadata": {},
   "outputs": [],
   "source": [
    "def run_libCBM(dbpath, cases):\n",
    "\n",
    "\n",
    "\n",
    "    #create a single classifier/classifier value for the single growth curve\n",
    "    classifiers_config = libcbmconfig.classifier_config([\n",
    "        libcbmconfig.classifier(\"growth_curve\", [\n",
    "            libcbmconfig.classifier_value(get_classifier_name(c[\"id\"])) \n",
    "            for c in cases\n",
    "        ])\n",
    "    ])\n",
    "\n",
    "\n",
    "    transitions_config = []\n",
    "    species_reference = cbm_defaults.load_species_reference(dbpath, \"en-CA\")\n",
    "    spatial_unit_reference =cbm_defaults.get_spatial_unit_ids_by_admin_eco_name(dbpath, \"en-CA\")\n",
    "    curves = []\n",
    "    for c in cases:\n",
    "        softwood_species_id = None\n",
    "        softwood_age_volume_pairs = None\n",
    "        hardwood_species_id = None\n",
    "        hardwood_age_volume_pairs = None\n",
    "        if c[\"softwood_species\"]:\n",
    "            softwood_species_id = species_reference[c[\"softwood_species\"]][\"species_id\"]\n",
    "            softwood_age_volume_pairs = c[\"softwood_age_volume_pairs\"]\n",
    "        if c[\"hardwood_species\"]:\n",
    "            hardwood_species_id = species_reference[c[\"hardwood_species\"]][\"species_id\"]\n",
    "            hardwood_age_volume_pairs = c[\"hardwood_age_volume_pairs\"]\n",
    "\n",
    "        curve = libcbmconfig.merch_volume_curve(\n",
    "            classifier_set = [get_classifier_name(c[\"id\"])],\n",
    "            softwood_species_id = softwood_species_id,\n",
    "            softwood_age_volume_pairs = softwood_age_volume_pairs,\n",
    "            hardwood_species_id = hardwood_species_id,\n",
    "            hardwood_age_volume_pairs = hardwood_age_volume_pairs)\n",
    "        curves.append(curve)\n",
    "\n",
    "    merch_volume_to_biomass_config = libcbmconfig.merch_volume_to_biomass_config(\n",
    "        dbpath, curves)\n",
    "\n",
    "    config = libcbmconfig.initialize_config(\n",
    "        dbpath = dbpath,\n",
    "        merch_volume_to_biomass = merch_volume_to_biomass_config,\n",
    "        classifiers = classifiers_config,\n",
    "        transitions = [])\n",
    "\n",
    "    dll.Initialize(libcbmconfig.to_string(config))\n",
    "\n",
    "    nstands = len(cases)\n",
    "    age = np.zeros(nstands,dtype=np.int32)\n",
    "    classifiers = np.array(\n",
    "        [classifiers_config[\"classifier_index\"][0][get_classifier_name(c[\"id\"])]\n",
    "         for c in cases], dtype=np.int32)\n",
    "    spatial_units = np.array(\n",
    "        [spatial_unit_reference[(c[\"admin_boundary\"],c[\"eco_boundary\"])]\n",
    "            for c in cases],dtype=np.int32)\n",
    "\n",
    "    pools = np.zeros((nstands,len(config[\"pools\"])))\n",
    "    pools[:,0] = 1.0\n",
    "\n",
    "    op = dll.AllocateOp(nstands)\n",
    "\n",
    "    result = pd.DataFrame()\n",
    "    for i in range(0, n_steps):\n",
    "        dll.GetMerchVolumeGrowthOps(\n",
    "            op, \n",
    "            classifiers=classifiers,\n",
    "            pools=pools,\n",
    "            ages=age,\n",
    "            spatial_units=spatial_units,\n",
    "            last_dist_type=None,\n",
    "            time_since_last_dist=None,\n",
    "            growth_multipliers=None)\n",
    "\n",
    "        #since growth in CBM3 is split into 2 phases, we need to apply the operation 2 times\n",
    "        dll.ComputePools([op, op], pools)\n",
    "\n",
    "        iteration_result = pd.DataFrame({x[\"name\"]: pools[:,x[\"index\"]] for x in config[\"pools\"]})\n",
    "        iteration_result.reset_index(level=0, inplace=True)\n",
    "        result = result.append(iteration_result)\n",
    "\n",
    "        age += 1\n",
    "\n",
    "    result = result.reset_index(drop=True)\n",
    "    return result"
   ]
  },
  {
   "cell_type": "code",
   "execution_count": 56,
   "metadata": {},
   "outputs": [],
   "source": [
    "libCBM_result = run_libCBM(dbpath, cases)"
   ]
  },
  {
   "cell_type": "code",
   "execution_count": 44,
   "metadata": {},
   "outputs": [],
   "source": [
    "toolbox_path = r\"C:\\Program Files (x86)\\Operational-Scale CBM-CFS3\"\n",
    "\n",
    "cbm3_project_dir = os.path.join(toolbox_path, \"Projects\", \"libcbm_growth_curve_testing\")\n",
    "cbm3_project_path = os.path.join(cbm3_project_dir, \"libcbm_growth_curve_testing.mdb\")\n",
    "config_save_path = os.path.join(cbm3_project_dir, \"libcbm_growth_curve_testing.json\")\n",
    "sit_config = sit_helper.SITConfig(\n",
    "    imported_project_path=cbm3_project_path,\n",
    "    initialize_mapping=True\n",
    ")\n",
    "sit_config.data_config(\n",
    "    age_class_size=age_interval,\n",
    "    num_age_classes=num_age_classes,\n",
    "    classifiers=[\"admin\", \"eco\", \"identifier\", \"species\"])\n",
    "sit_config.set_admin_eco_mapping(\"admin\",\"eco\")\n",
    "sit_config.set_species_classifier(\"species\")\n",
    "for c in cases:\n",
    "    cset = [c[\"admin_boundary\"], c[\"eco_boundary\"], get_classifier_name(c[\"id\"]), \"Spruce\"]\n",
    "    sit_config.add_inventory(classifier_set=cset, area=1, age=0, unfccc_land_class=0,\n",
    "                    historic_disturbance=\"Wildfire\", last_pass_disturbance=\"Wildfire\")\n",
    "    if c[\"softwood_species\"]:\n",
    "        sit_config.add_yield(classifier_set=cset, \n",
    "                    leading_species_classifier_value=c[\"softwood_species\"],\n",
    "                    values=[x[1] for x in c[\"softwood_age_volume_pairs\"]])\n",
    "    if c[\"hardwood_species\"]:\n",
    "        sit_config.add_yield(classifier_set=cset, \n",
    "                    leading_species_classifier_value=c[\"softwood_species\"],\n",
    "                    values=[x[1] for x in c[\"softwood_age_volume_pairs\"]])\n",
    "sit_config.add_event(\n",
    "    classifier_set=[\"?\",\"?\",\"?\",\"?\"],\n",
    "    disturbance_type=\"Wildfire\",\n",
    "    time_step=n_steps+1,\n",
    "    target=1,\n",
    "    target_type = \"Area\",\n",
    "    sort = \"SORT_BY_SW_AGE\")\n",
    "sit_config.import_project(standard_import_tool_plugin_path, config_save_path)\n",
    "results_db_path = cbm3_python.simulation.projectsimulator.run(\n",
    "    aidb_path=os.path.join(toolbox_path, \"admin\", \"dbs\", \"ArchiveIndex_Beta_Install.mdb\"), \n",
    "    project_path=cbm3_project_path, \n",
    "    toolbox_installation_dir=toolbox_path,\n",
    "    cbm_exe_path=os.path.join(toolbox_path, \"admin\", \"executables\"))"
   ]
  },
  {
   "cell_type": "code",
   "execution_count": 50,
   "metadata": {},
   "outputs": [
    {
     "data": {
      "text/plain": [
       "<matplotlib.axes._subplots.AxesSubplot at 0x1168f550>"
      ]
     },
     "execution_count": 50,
     "metadata": {},
     "output_type": "execute_result"
    },
    {
     "data": {
      "image/png": "[encoded data removed]",
      "text/plain": [
       "<Figure size 432x288 with 1 Axes>"
      ]
     },
     "metadata": {
      "needs_background": "light"
     },
     "output_type": "display_data"
    }
   ],
   "source": [
    "\n",
    "pool_indicators = cbm3_results.load_pool_indicators(results_db_path)\n",
    "pool_indicators[[ \n",
    "    'Softwood Merchantable',\n",
    " 'Softwood Foliage',\n",
    " 'Softwood Other',\n",
    " 'Softwood Coarse Roots',\n",
    " 'Softwood Fine Roots'\n",
    " #'Hardwood Merchantable',\n",
    " #'Hardwood Foliage',\n",
    " #'Hardwood Other',\n",
    " #'Hardwood Coarse Roots',\n",
    " #'Hardwood Fine Roots'\n",
    "                ]].plot()"
   ]
  },
  {
   "cell_type": "code",
   "execution_count": 57,
   "metadata": {},
   "outputs": [
    {
     "data": {
      "text/plain": [
       "<matplotlib.axes._subplots.AxesSubplot at 0x113a0b70>"
      ]
     },
     "execution_count": 57,
     "metadata": {},
     "output_type": "execute_result"
    },
    {
     "data": {
      "image/png": "[encoded data removed]",
      "text/plain": [
       "<Figure size 432x288 with 1 Axes>"
      ]
     },
     "metadata": {
      "needs_background": "light"
     },
     "output_type": "display_data"
    }
   ],
   "source": [
    "libCBM_result[['SoftwoodMerch',\n",
    " 'SoftwoodFoliage',\n",
    " 'SoftwoodOther',\n",
    " 'SoftwoodCoarseRoots',\n",
    " 'SoftwoodFineRoots',\n",
    " 'HardwoodMerch']].plot()"
   ]
  },
  {
   "cell_type": "code",
   "execution_count": null,
   "metadata": {},
   "outputs": [],
   "source": []
  }
 ],
 "metadata": {
  "kernelspec": {
   "display_name": "Python 3",
   "language": "python",
   "name": "python3"
  },
  "language_info": {
   "codemirror_mode": {
    "name": "ipython",
    "version": 3
   },
   "file_extension": ".py",
   "mimetype": "text/x-python",
   "name": "python",
   "nbconvert_exporter": "python",
   "pygments_lexer": "ipython3",
   "version": "3.7.1"
  }
 },
 "nbformat": 4,
 "nbformat_minor": 2
}
