{
 "cells": [
  {
   "cell_type": "code",
   "execution_count": 1,
   "metadata": {},
   "outputs": [],
   "source": [
    "import os, json\n",
    "import numpy as np\n",
    "import pandas as pd\n",
    "%matplotlib inline"
   ]
  },
  {
   "cell_type": "code",
   "execution_count": 2,
   "metadata": {},
   "outputs": [],
   "source": [
    "from libcbmwrapper import LibCBMWrapper\n",
    "import libcbmconfig\n",
    "import cbm_defaults\n",
    "dllpath = r'C:\\dev\\LibCBM\\LibCBM\\x64\\Debug\\LibCBM.dll'\n",
    "dlldir = os.path.dirname(dllpath)\n",
    "cwd = os.getcwd()\n",
    "os.chdir(dlldir)\n",
    "dll = LibCBMWrapper(dllpath)\n",
    "os.chdir(cwd)"
   ]
  },
  {
   "cell_type": "code",
   "execution_count": 3,
   "metadata": {},
   "outputs": [
    {
     "data": {
      "text/plain": [
       "'C:\\\\dev\\\\LibCBM\\\\LibCBMPy\\\\cbm3_python_git'"
      ]
     },
     "execution_count": 3,
     "metadata": {},
     "output_type": "execute_result"
    }
   ],
   "source": [
    "import cbm3_python_helper\n",
    "cbm3_python_helper.load_cbm3_python()"
   ]
  },
  {
   "cell_type": "code",
   "execution_count": null,
   "metadata": {},
   "outputs": [],
   "source": [
    "growth_curves = []"
   ]
  },
  {
   "cell_type": "code",
   "execution_count": 5,
   "metadata": {},
   "outputs": [],
   "source": [
    "def run_libCBM():\n",
    "    dbpath = 'C:\\dev\\cbm_defaults\\cbm_defaults.db'\n",
    "\n",
    "    #create a single classifier/classifier value for the single growth curve\n",
    "    classifiers_config = libcbmconfig.classifier_config([\n",
    "        libcbmconfig.classifier(\"growth_curve\", [\n",
    "            libcbmconfig.classifier_value(\"growth_curve1\")\n",
    "        ])\n",
    "    ])\n",
    "\n",
    "\n",
    "    transitions_config = []\n",
    "    species_reference = cbm_defaults.load_species_reference(dbpath, \"en-CA\")\n",
    "\n",
    "    merch_volume_to_biomass_config = libcbmconfig.merch_volume_to_biomass_config(\n",
    "        dbpath, [\n",
    "            libcbmconfig.merch_volume_curve(\n",
    "                classifier_set = ['growth_curve1'], \n",
    "                softwood_species_id = species_reference[\"Spruce\"][\"species_id\"], \n",
    "                softwood_age_volume_pairs=[\n",
    "                        (0, 0.0),\n",
    "                        (10, 10.0),\n",
    "                        (20, 15.0),\n",
    "                        (30, 20.0),\n",
    "                        (40, 25.0),\n",
    "                        (50, 30.0),\n",
    "                        (60, 35.0),\n",
    "                        (70, 40.0),\n",
    "                        (80, 45.0),\n",
    "                        (90, 50.0),\n",
    "                        (100, 55.0),\n",
    "                        (110, 60.0),\n",
    "                        (120, 65.0),\n",
    "                        (130, 70.0),\n",
    "                        (140, 75.0),\n",
    "                        (150, 80.0),\n",
    "                        (160, 85.625),\n",
    "                        (170, 90.73529412),\n",
    "                        (180, 95.84558824),\n",
    "                        (190, 100.9558824)],\n",
    "                hardwood_species_id=None,\n",
    "                hardwood_age_volume_pairs=None)\n",
    "        ])\n",
    "\n",
    "    config = libcbmconfig.initialize_config(\n",
    "        dbpath = dbpath,\n",
    "        merch_volume_to_biomass = merch_volume_to_biomass_config,\n",
    "        classifiers = classifiers_config,\n",
    "        transitions = transitions_config,\n",
    "        save_path = \"config.json\")\n",
    "\n",
    "    dll.Initialize(libcbmconfig.to_string(config))\n",
    "\n",
    "    nstands = 1\n",
    "    age = np.array([0],dtype=np.int32)\n",
    "    classifiers = np.array([1], dtype=np.int32)\n",
    "    spatial_units = np.array([42],dtype=np.int32)\n",
    "    pools = np.zeros((1,len(config[\"pools\"])))\n",
    "    pools[:,0] = 1.0\n",
    "\n",
    "    op = dll.AllocateOp(nstands)\n",
    "\n",
    "    result = pd.DataFrame()\n",
    "    for i in range(0, 200):\n",
    "        dll.GetMerchVolumeGrowthOps(\n",
    "            op, \n",
    "            classifiers=classifiers,\n",
    "            pools=pools,\n",
    "            ages=age,\n",
    "            spatial_units=spatial_units,\n",
    "            last_dist_type=None,\n",
    "            time_since_last_dist=None,\n",
    "            growth_multipliers=None)\n",
    "\n",
    "        dll.ComputePools([op], pools)\n",
    "\n",
    "        iteration_result = pd.DataFrame({x[\"name\"]: pools[:,x[\"index\"]] for x in config[\"pools\"]})\n",
    "        iteration_result.reset_index(level=0, inplace=True)\n",
    "        result = result.append(iteration_result)\n",
    "\n",
    "        age += 1\n",
    "\n",
    "    result = result.reset_index(drop=True)\n"
   ]
  },
  {
   "cell_type": "code",
   "execution_count": null,
   "metadata": {},
   "outputs": [],
   "source": []
  },
  {
   "cell_type": "code",
   "execution_count": null,
   "metadata": {},
   "outputs": [],
   "source": []
  }
 ],
 "metadata": {
  "kernelspec": {
   "display_name": "Python 3",
   "language": "python",
   "name": "python3"
  },
  "language_info": {
   "codemirror_mode": {
    "name": "ipython",
    "version": 3
   },
   "file_extension": ".py",
   "mimetype": "text/x-python",
   "name": "python",
   "nbconvert_exporter": "python",
   "pygments_lexer": "ipython3",
   "version": "3.7.1"
  }
 },
 "nbformat": 4,
 "nbformat_minor": 2
}
