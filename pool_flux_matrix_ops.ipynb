{
 "cells": [
  {
   "cell_type": "markdown",
   "metadata": {},
   "source": [
    "# LibCBM Pool, and Flux Matrix Operations #"
   ]
  },
  {
   "cell_type": "code",
   "execution_count": 1,
   "metadata": {},
   "outputs": [],
   "source": [
    "from libcbmwrapper import LibCBMWrapper\n",
    "import libcbmconfig\n",
    "import cbmconfig\n",
    "import cbm_defaults\n"
   ]
  },
  {
   "cell_type": "code",
   "execution_count": 2,
   "metadata": {},
   "outputs": [],
   "source": [
    "import os\n",
    "import numpy as np\n",
    "import scipy.sparse\n"
   ]
  },
  {
   "cell_type": "markdown",
   "metadata": {},
   "source": []
  },
  {
   "cell_type": "code",
   "execution_count": 3,
   "metadata": {},
   "outputs": [],
   "source": [
    "dllpath = r'C:\\dev\\LibCBM\\LibCBM\\x64\\Debug\\LibCBM.dll'\n",
    "def load_dll(config):\n",
    "    dlldir = os.path.dirname(dllpath)\n",
    "    cwd = os.getcwd()\n",
    "    os.chdir(dlldir)\n",
    "    dll = LibCBMWrapper(dllpath)\n",
    "    os.chdir(cwd)\n",
    "    dll.Initialize(libcbmconfig.to_string(config))\n",
    "    return dll\n",
    "\n",
    "def create_pools(names):\n",
    "    return [{'name': x, 'id': i+1, 'index': i} for i,x in enumerate(names)]\n",
    "\n",
    "def create_pools_by_name(pools):\n",
    "    return {x[\"name\"]: x for x in pools.items()}\n",
    "\n",
    "def create_flux_indicator(pools_by_name, processes, process, sources, sinks):\n",
    "    return {\n",
    "       'id': None,\n",
    "       'index': None,\n",
    "       'process_id': 3,\n",
    "       'source_pools': [pools_by_name(x)[\"id\"] for x in sources],\n",
    "       'sink_pools': [pools_by_name(x)[\"id\"] for x in sinks]\n",
    "   }\n",
    "\n",
    "def append_flux_indicator(collection, flux_indicator):\n",
    "    flux_indicator[\"index\"] = len(collection)\n",
    "    flux_indicator[\"id\"] = index+1\n",
    "    collection.append(flux_indicator)\n",
    "    \n",
    "def to_coordinate(matrix):\n",
    "    '''convert the specified matrix to a matrix of coordinate triples'''\n",
    "    coo = scipy.sparse.coo_matrix(matrix)\n",
    "    return np.column_stack((coo.row, coo.col, coo.data))\n",
    "    "
   ]
  },
  {
   "cell_type": "markdown",
   "metadata": {},
   "source": [
    "## ComputePools ##\n",
    "\n"
   ]
  },
  {
   "cell_type": "code",
   "execution_count": 4,
   "metadata": {},
   "outputs": [],
   "source": [
    "def ComputePools(pools, ops, op_indices):\n",
    "    pools = pools.copy()\n",
    "    pooldef = create_pools([str(x) for x in range(pools.shape[1])])\n",
    "    dll = load_dll({\n",
    "        \"pools\": pooldef,\n",
    "        \"flux_indicators\": []\n",
    "    })\n",
    "    op_ids = []\n",
    "    for i,op in enumerate(ops):\n",
    "        op_id = dll.AllocateOp(pools.shape[0])\n",
    "        op_ids.append(op_id)\n",
    "        dll.SetOp(op_id, [to_coordinate(x) for x in op], \n",
    "                  np.ascontiguousarray(op_indices[:,i]))\n",
    "        \n",
    "    dll.ComputePools(op_ids, pools)\n",
    "    return pools\n",
    "        "
   ]
  },
  {
   "cell_type": "markdown",
   "metadata": {},
   "source": [
    "Introduction: A single pool/matrix operation"
   ]
  },
  {
   "cell_type": "code",
   "execution_count": 5,
   "metadata": {},
   "outputs": [
    {
     "name": "stdout",
     "output_type": "stream",
     "text": [
      "summed difference: 0.0\n",
      "max difference: 0.0\n"
     ]
    }
   ],
   "source": [
    "pools = np.ones((1,5))\n",
    "\n",
    "mat = np.array(\n",
    "    [[1,0.5,0,0,0],\n",
    "     [0,1,0,0,0],\n",
    "     [0,0,1,0,0],\n",
    "     [0,0,0,1,0],\n",
    "     [0,0,0,0,1]])\n",
    "\n",
    "op_indices = np.array([[0]], dtype=np.uintp)\n",
    "pools_test = ComputePools(pools,[[mat]], op_indices)\n",
    "\n",
    "#create the expected result using the numpy implementation\n",
    "pools_expected = np.matmul(pools, mat)\n",
    "\n",
    "print(\"summed difference: {}\".format((pools_expected-pools_test).sum()))\n",
    "print(\"max difference: {}\".format((pools_expected-pools_test).max()))\n"
   ]
  },
  {
   "cell_type": "markdown",
   "metadata": {},
   "source": [
    "Scale up to a couple of pool vectors.  Multiply the single matrix by each pool vector."
   ]
  },
  {
   "cell_type": "code",
   "execution_count": 6,
   "metadata": {
    "scrolled": false
   },
   "outputs": [
    {
     "name": "stdout",
     "output_type": "stream",
     "text": [
      "summed difference: 0.0\n",
      "max difference: 0.0\n"
     ]
    }
   ],
   "source": [
    "nstands = 10\n",
    "npools = 5\n",
    "nops = 1\n",
    "pools = np.ones((nstands,npools))\n",
    "\n",
    "#required to be a square mtrix of order n-pools\n",
    "mat = np.array(\n",
    "    [[1,0.5,0,0,0],\n",
    "     [0,1,0,0,0],\n",
    "     [0,0,1,0,0],\n",
    "     [0,0,0,1,0],\n",
    "     [0,0,0,0,1]])\n",
    "\n",
    "op_indices = np.zeros((nops,nstands), dtype=np.uintp)\n",
    "pools_test = ComputePools(pools,[[mat]], op_indices)\n",
    "\n",
    "\n",
    "#create the expected result using the numpy implementation\n",
    "pools_expected = np.zeros((10,5))\n",
    "for i in range(nstands):\n",
    "    pools_expected[i,:] = np.matmul(pools[i,:], mat)\n",
    "\n",
    "print(\"summed difference: {}\".format((pools_expected-pools_test).sum()))\n",
    "print(\"max difference: {}\".format((pools_expected-pools_test).max()))"
   ]
  },
  {
   "cell_type": "markdown",
   "metadata": {},
   "source": [
    "Now scale up to a couple of matrices."
   ]
  },
  {
   "cell_type": "code",
   "execution_count": 7,
   "metadata": {},
   "outputs": [
    {
     "name": "stdout",
     "output_type": "stream",
     "text": [
      "summed difference: 0.0\n",
      "max difference: 0.0\n"
     ]
    }
   ],
   "source": [
    "nstands = 10\n",
    "npools = 5\n",
    "nops = 1\n",
    "pools = np.ones((nstands,npools))\n",
    "\n",
    "#required to be a square mtrix of order n-pools\n",
    "mat0 = np.array(\n",
    "    [[1,0.5,0,0,0],\n",
    "     [0,1,0,0,0],\n",
    "     [0,0,1,0,0],\n",
    "     [0,0,0,1,0],\n",
    "     [0,0,0,0,1]])\n",
    "\n",
    "mat1 = np.array(\n",
    "    [[1,1,0,0,0],\n",
    "     [0,1.0,0,0,0],\n",
    "     [0,0,1,0,0],\n",
    "     [0,0,0,1,0],\n",
    "     [0,0,0,0,1]])\n",
    "\n",
    "mats = [[mat0,mat1]]\n",
    "\n",
    "op0_indices = [0,0,0,0,0,1,1,1,1,1] #the first 5 stands use mat0, and the sencond 5 use mat1\n",
    "op_indices = np.transpose(np.array([op0_indices], dtype=np.uintp))\n",
    "pools_test = ComputePools(pools, mats, op_indices)\n",
    "\n",
    "\n",
    "#create the expected result using the numpy implementation\n",
    "pools_expected = np.zeros((10,5))\n",
    "for i in range(nstands):\n",
    "    mat = mats[0][op_indices[i,0]]\n",
    "    pools_expected[i,:] = np.matmul(pools[i,:], mat)\n",
    "\n",
    "print(\"summed difference: {}\".format((pools_expected-pools_test).sum()))\n",
    "print(\"max difference: {}\".format((pools_expected-pools_test).max()))"
   ]
  },
  {
   "cell_type": "markdown",
   "metadata": {},
   "source": [
    "now expand to multiple ops"
   ]
  },
  {
   "cell_type": "code",
   "execution_count": 8,
   "metadata": {},
   "outputs": [
    {
     "name": "stdout",
     "output_type": "stream",
     "text": [
      "summed difference: 0.0\n",
      "max difference: 0.0\n"
     ]
    }
   ],
   "source": [
    "nstands = 10\n",
    "npools = 5\n",
    "nops = 2\n",
    "pools = np.ones((nstands,npools))\n",
    "\n",
    "#matrices here are named mat_i_j where i is the op index, and j is the mat index\n",
    "mat_0_0 = np.array(\n",
    "    [[1,0.5,0,0,0],\n",
    "     [0,1,0,0,0],\n",
    "     [0,0,1,0,0],\n",
    "     [0,0,0,1,0],\n",
    "     [0,0,0,0,1]])\n",
    "\n",
    "mat_0_1 = np.array(\n",
    "    [[1,1,0,0,0],\n",
    "     [0,1.0,0,0,0],\n",
    "     [0,0,1,0,0],\n",
    "     [0,0,0,1,0],\n",
    "     [0,0,0,0,1]])\n",
    "\n",
    "mat_1_0 = np.array(\n",
    "    [[1,0.5,0,0,0],\n",
    "     [0,1,0,0,0],\n",
    "     [0,0,1,0,0],\n",
    "     [0,0,0,1,0],\n",
    "     [0,0,0,0,1]])\n",
    "\n",
    "mat_1_1 = np.array(\n",
    "    [[1,1,0,0,0],\n",
    "     [0,1.0,0,0,0],\n",
    "     [0,0,1,0,0],\n",
    "     [0,0,0,1,0],\n",
    "     [0,0,0,0,1]])\n",
    "\n",
    "mats = [[mat_0_0, mat_0_1],\n",
    "        [mat_1_0, mat_1_1]]\n",
    "\n",
    "op0_indices = [0,0,0,0,0,1,1,1,1,1] \n",
    "op1_indices = [0,0,0,0,0,1,1,1,1,1]\n",
    "op_indices = np.transpose(np.array([op0_indices,op1_indices], dtype=np.uintp))\n",
    "pools_test = ComputePools(pools, mats, op_indices)\n",
    "\n",
    "\n",
    "#create the expected result using the numpy implementation\n",
    "pools_expected = np.zeros((10,5))\n",
    "pools_working = pools.copy() #working variable required\n",
    "for i in range(nops):\n",
    "    for k in range(nstands):\n",
    "        mat = mats[i][op_indices[k,i]]\n",
    "        pools_working[k,:] = np.matmul(pools_working[k,:], mat)\n",
    "        \n",
    "pools_expected = pools_working\n",
    "print(\"summed difference: {}\".format((pools_expected-pools_test).sum()))\n",
    "print(\"max difference: {}\".format((pools_expected-pools_test).max()))"
   ]
  },
  {
   "cell_type": "markdown",
   "metadata": {},
   "source": [
    "randomized test versus np.matmul"
   ]
  },
  {
   "cell_type": "code",
   "execution_count": 10,
   "metadata": {},
   "outputs": [
    {
     "name": "stdout",
     "output_type": "stream",
     "text": [
      "mean difference: 44017774865.69369\n",
      "summed difference: 766789638160384.0\n",
      "max difference: 8796093022208.0\n",
      "all close [rtol=1e-12, atol=1e-15]: True\n"
     ]
    }
   ],
   "source": [
    "nstands = np.random.randint(1,1000+1)\n",
    "npools = np.random.randint(3,25)\n",
    "nops = np.random.randint(1,20)\n",
    "pools = (np.random.rand(nstands,npools)-0.5)*1e15\n",
    "\n",
    "mats = []\n",
    "op_indices = np.zeros((nstands,nops), dtype=np.uintp)\n",
    "for i in range(nops):\n",
    "    n_op_mats = int(np.random.rand(1)[0]*nstands)\n",
    "    if n_op_mats == 0:\n",
    "        n_op_mats = 1\n",
    "    op_indices[:,i] = np.floor((np.random.rand(nstands)*n_op_mats)).astype(np.uintp)\n",
    "    op_mats = []\n",
    "    for j in range(n_op_mats):\n",
    "        op_mats.append(np.random.rand(npools,npools)) #create a random square matrix\n",
    "    mats.append(op_mats)\n",
    "\n",
    "pools_test = ComputePools(pools, mats, op_indices)\n",
    "\n",
    "#create the expected result using the numpy implementation\n",
    "pools_working = pools.copy() #working variable required\n",
    "for i in range(nops):\n",
    "    for k in range(nstands):\n",
    "        mat = mats[i][op_indices[k,i]]\n",
    "        pools_working[k,:] = np.matmul(pools_working[k,:], mat)\n",
    "\n",
    "pools_expected = pools_working\n",
    "print(\"mean difference: {}\".format((pools_expected-pools_test).mean()))\n",
    "print(\"summed difference: {}\".format((pools_expected-pools_test).sum()))\n",
    "print(\"max difference: {}\".format((pools_expected-pools_test).max()))\n",
    "print(\"all close [rtol=1e-12, atol=1e-15]: {}\".format(np.allclose(pools_expected,pools_test,rtol=1e-12, atol=1e-15)))"
   ]
  },
  {
   "cell_type": "code",
   "execution_count": null,
   "metadata": {},
   "outputs": [],
   "source": []
  }
 ],
 "metadata": {
  "kernelspec": {
   "display_name": "Python 3",
   "language": "python",
   "name": "python3"
  },
  "language_info": {
   "codemirror_mode": {
    "name": "ipython",
    "version": 3
   },
   "file_extension": ".py",
   "mimetype": "text/x-python",
   "name": "python",
   "nbconvert_exporter": "python",
   "pygments_lexer": "ipython3",
   "version": "3.7.1"
  }
 },
 "nbformat": 4,
 "nbformat_minor": 2
}
