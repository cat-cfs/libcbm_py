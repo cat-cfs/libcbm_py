{
 "cells": [
  {
   "cell_type": "code",
   "execution_count": 1,
   "metadata": {},
   "outputs": [],
   "source": [
    "from libcbmwrapper import LibCBMWrapper\n",
    "import libcbmconfig\n",
    "import cbmconfig\n",
    "import cbm_defaults\n"
   ]
  },
  {
   "cell_type": "code",
   "execution_count": 2,
   "metadata": {},
   "outputs": [],
   "source": [
    "import os\n",
    "import numpy as np\n",
    "import scipy.sparse"
   ]
  },
  {
   "cell_type": "code",
   "execution_count": 3,
   "metadata": {},
   "outputs": [],
   "source": [
    "dllpath = r'C:\\dev\\LibCBM\\LibCBM\\x64\\Debug\\LibCBM.dll'\n",
    "def load_dll(config):\n",
    "    dlldir = os.path.dirname(dllpath)\n",
    "    cwd = os.getcwd()\n",
    "    os.chdir(dlldir)\n",
    "    dll = LibCBMWrapper(dllpath)\n",
    "    os.chdir(cwd)\n",
    "    dll.Initialize(libcbmconfig.to_string(config))\n",
    "    return dll\n",
    "\n",
    "def create_pools(names):\n",
    "    return [{'name': x, 'id': i+1, 'index': i} for i,x in enumerate(names)]\n",
    "\n",
    "def create_pools_by_name(pools):\n",
    "    return {x[\"name\"]: x for x in pools.items()}\n",
    "\n",
    "def create_flux_indicator(pools_by_name, processes, process, sources, sinks):\n",
    "    return {\n",
    "       'id': None,\n",
    "       'index': None,\n",
    "       'process_id': 3,\n",
    "       'source_pools': [pools_by_name(x)[\"id\"] for x in sources],\n",
    "       'sink_pools': [pools_by_name(x)[\"id\"] for x in sinks]\n",
    "   }\n",
    "\n",
    "def append_flux_indicator(collection, flux_indicator):\n",
    "    flux_indicator[\"index\"] = len(collection)\n",
    "    flux_indicator[\"id\"] = index+1\n",
    "    collection.append(flux_indicator)\n",
    "    \n",
    "def to_coordinate(matrix):\n",
    "    '''convert the specified matrix to a coordinate matrix'''\n",
    "    coo = scipy.sparse.coo_matrix(matrix)\n",
    "    return np.column_stack((coo.row, coo.col, coo.data))\n",
    "    "
   ]
  },
  {
   "cell_type": "code",
   "execution_count": 23,
   "metadata": {},
   "outputs": [
    {
     "data": {
      "text/plain": [
       "(1,)"
      ]
     },
     "execution_count": 23,
     "metadata": {},
     "output_type": "execute_result"
    }
   ],
   "source": [
    "np.array([0], dtype=np.uintp).shape"
   ]
  },
  {
   "cell_type": "code",
   "execution_count": 19,
   "metadata": {},
   "outputs": [],
   "source": [
    "def ComputePools(pools, ops, op_indices):\n",
    "    pools = pools.copy()\n",
    "    pooldef = create_pools([str(x) for x in range(pools.shape[1])])\n",
    "    dll = load_dll({\n",
    "        \"pools\": pooldef,\n",
    "        \"flux_indicators\": []\n",
    "    })\n",
    "    op_ids = []\n",
    "    for i,op in enumerate(ops):\n",
    "        op_id = dll.AllocateOp(pools.shape[0])\n",
    "        op_ids.append(op_id)\n",
    "        dll.SetOp(op_id, [to_coordinate(x) for x in op], op_indices[:,i])\n",
    "        \n",
    "    dll.ComputePools(op_ids, pools)\n",
    "    return pools\n",
    "        "
   ]
  },
  {
   "cell_type": "markdown",
   "metadata": {},
   "source": [
    "Introduction: A single pool/matrix operation"
   ]
  },
  {
   "cell_type": "code",
   "execution_count": 44,
   "metadata": {},
   "outputs": [
    {
     "name": "stdout",
     "output_type": "stream",
     "text": [
      "difference: 0.0\n"
     ]
    }
   ],
   "source": [
    "pools = np.ones((1,5))\n",
    "\n",
    "mat = np.array(\n",
    "    [[1,0.5,0,0,0],\n",
    "     [0,1,0,0,0],\n",
    "     [0,0,1,0,0],\n",
    "     [0,0,0,1,0],\n",
    "     [0,0,0,0,1]])\n",
    "\n",
    "op_indices = np.array([[0]], dtype=np.uintp)\n",
    "pools_test = ComputePools(pools,[[mat]], op_indices)\n",
    "\n",
    "#create the expected result using the numpy implementation\n",
    "pools_expected = np.matmul(pools, mat)\n",
    "\n",
    "print(\"difference: {}\".format((pools_expected-pools_test).sum()))\n"
   ]
  },
  {
   "cell_type": "markdown",
   "metadata": {},
   "source": [
    "Scale up to a couple of pool vectors.  Multiply the single matrix by each pool vector."
   ]
  },
  {
   "cell_type": "code",
   "execution_count": 99,
   "metadata": {
    "scrolled": false
   },
   "outputs": [
    {
     "name": "stdout",
     "output_type": "stream",
     "text": [
      "difference: 0.0\n"
     ]
    }
   ],
   "source": [
    "nstands = 10\n",
    "npools = 5\n",
    "nops = 1\n",
    "pools = np.ones((nstands,npools))\n",
    "\n",
    "#required to be a square mtrix of order n-pools\n",
    "mat = np.array(\n",
    "    [[1,0.5,0,0,0],\n",
    "     [0,1,0,0,0],\n",
    "     [0,0,1,0,0],\n",
    "     [0,0,0,1,0],\n",
    "     [0,0,0,0,1]])\n",
    "\n",
    "op_indices = np.zeros((nops,nstands), dtype=np.uintp)\n",
    "pools_test = ComputePools(pools,[[mat]], op_indices)\n",
    "\n",
    "\n",
    "#create the expected result using the numpy implementation\n",
    "pools_expected = np.zeros((10,5))\n",
    "for i in range(nstands):\n",
    "    pools_expected[i,:] = np.matmul(pools[i,:], mat)\n",
    "\n",
    "print(\"difference: {}\".format((pools_expected-pools_test).mean()))"
   ]
  },
  {
   "cell_type": "markdown",
   "metadata": {},
   "source": [
    "Now scale up to a couple of matrices."
   ]
  },
  {
   "cell_type": "code",
   "execution_count": 93,
   "metadata": {},
   "outputs": [
    {
     "name": "stdout",
     "output_type": "stream",
     "text": [
      "difference: 0.0\n"
     ]
    }
   ],
   "source": [
    "nstands = 10\n",
    "npools = 5\n",
    "nops = 1\n",
    "pools = np.ones((nstands,npools))\n",
    "\n",
    "#required to be a square mtrix of order n-pools\n",
    "mat0 = np.array(\n",
    "    [[1,0.5,0,0,0],\n",
    "     [0,1,0,0,0],\n",
    "     [0,0,1,0,0],\n",
    "     [0,0,0,1,0],\n",
    "     [0,0,0,0,1]])\n",
    "\n",
    "mat1 = np.array(\n",
    "    [[1,1,0,0,0],\n",
    "     [0,1.0,0,0,0],\n",
    "     [0,0,1,0,0],\n",
    "     [0,0,0,1,0],\n",
    "     [0,0,0,0,1]])\n",
    "\n",
    "mats = [[mat0,mat1]]\n",
    "\n",
    "op0_indices = [0,0,0,0,0,1,1,1,1,1] #the first 5 stands use mat0, and the sencond 5 use mat1\n",
    "op_indices = np.transpose(np.array([op0_indices], dtype=np.uintp))\n",
    "pools_test = ComputePools(pools, mats, op_indices)\n",
    "\n",
    "\n",
    "#create the expected result using the numpy implementation\n",
    "pools_expected = np.zeros((10,5))\n",
    "for i in range(nstands):\n",
    "    mat = mats[0][op_indices[i,0]]\n",
    "    pools_expected[i,:] = np.matmul(pools[i,:], mat)\n",
    "\n",
    "print(\"difference: {}\".format((pools_expected-pools_test).sum()))"
   ]
  },
  {
   "cell_type": "markdown",
   "metadata": {},
   "source": [
    "now expand to multiple ops"
   ]
  },
  {
   "cell_type": "code",
   "execution_count": 98,
   "metadata": {},
   "outputs": [
    {
     "name": "stdout",
     "output_type": "stream",
     "text": [
      "difference: 0.0\n"
     ]
    }
   ],
   "source": [
    "nstands = 10\n",
    "npools = 5\n",
    "nops = 2\n",
    "pools = np.ones((nstands,npools))\n",
    "\n",
    "#matrices here are named mat_i_j where i is the op index, and j is the mat index\n",
    "mat_0_0 = np.array(\n",
    "    [[1,0.5,0,0,0],\n",
    "     [0,1,0,0,0],\n",
    "     [0,0,1,0,0],\n",
    "     [0,0,0,1,0],\n",
    "     [0,0,0,0,1]])\n",
    "\n",
    "mat_0_1 = np.array(\n",
    "    [[1,1,0,0,0],\n",
    "     [0,1.0,0,0,0],\n",
    "     [0,0,1,0,0],\n",
    "     [0,0,0,1,0],\n",
    "     [0,0,0,0,1]])\n",
    "\n",
    "mat_1_0 = np.array(\n",
    "    [[1,0.5,0,0,0],\n",
    "     [0,1,0,0,0],\n",
    "     [0,0,1,0,0],\n",
    "     [0,0,0,1,0],\n",
    "     [0,0,0,0,1]])\n",
    "\n",
    "mat_1_1 = np.array(\n",
    "    [[1,1,0,0,0],\n",
    "     [0,1.0,0,0,0],\n",
    "     [0,0,1,0,0],\n",
    "     [0,0,0,1,0],\n",
    "     [0,0,0,0,1]])\n",
    "\n",
    "mats = [[mat_0_0, mat_0_1],\n",
    "        [mat_1_0, mat_1_1]]\n",
    "\n",
    "op0_indices = [0,0,0,0,0,1,1,1,1,1] \n",
    "op1_indices = [0,0,0,0,0,1,1,1,1,1]\n",
    "op_indices = np.transpose(np.array([op0_indices,op1_indices], dtype=np.uintp))\n",
    "pools_test = ComputePools(pools, mats, op_indices)\n",
    "\n",
    "\n",
    "#create the expected result using the numpy implementation\n",
    "pools_expected = np.zeros((10,5))\n",
    "pools_working = pools.copy() #working variable required\n",
    "for i in range(nops):\n",
    "    for k in range(nstands):\n",
    "        mat = mats[i][op_indices[k,i]]\n",
    "        pools_working[k,:] = np.matmul(pools_working[k,:], mat)\n",
    "        \n",
    "pools_expected = pools_working\n",
    "print(\"difference: {}\".format((pools_expected-pools_test).sum()))"
   ]
  },
  {
   "cell_type": "code",
   "execution_count": 95,
   "metadata": {},
   "outputs": [
    {
     "data": {
      "text/plain": [
       "array([[0, 0],\n",
       "       [0, 0],\n",
       "       [0, 0],\n",
       "       [0, 0],\n",
       "       [0, 0],\n",
       "       [1, 1],\n",
       "       [1, 1],\n",
       "       [1, 1],\n",
       "       [1, 1],\n",
       "       [1, 1]], dtype=uint64)"
      ]
     },
     "execution_count": 95,
     "metadata": {},
     "output_type": "execute_result"
    }
   ],
   "source": [
    "op_indices"
   ]
  },
  {
   "cell_type": "code",
   "execution_count": 96,
   "metadata": {},
   "outputs": [
    {
     "data": {
      "text/plain": [
       "array([[1., 2., 1., 1., 1.],\n",
       "       [1., 2., 1., 1., 1.],\n",
       "       [1., 2., 1., 1., 1.],\n",
       "       [1., 2., 1., 1., 1.],\n",
       "       [1., 2., 1., 1., 1.],\n",
       "       [1., 3., 1., 1., 1.],\n",
       "       [1., 3., 1., 1., 1.],\n",
       "       [1., 3., 1., 1., 1.],\n",
       "       [1., 3., 1., 1., 1.],\n",
       "       [1., 3., 1., 1., 1.]])"
      ]
     },
     "execution_count": 96,
     "metadata": {},
     "output_type": "execute_result"
    }
   ],
   "source": [
    "pools_test"
   ]
  },
  {
   "cell_type": "code",
   "execution_count": 97,
   "metadata": {},
   "outputs": [
    {
     "data": {
      "text/plain": [
       "array([[1., 2., 1., 1., 1.],\n",
       "       [1., 2., 1., 1., 1.],\n",
       "       [1., 2., 1., 1., 1.],\n",
       "       [1., 2., 1., 1., 1.],\n",
       "       [1., 2., 1., 1., 1.],\n",
       "       [1., 3., 1., 1., 1.],\n",
       "       [1., 3., 1., 1., 1.],\n",
       "       [1., 3., 1., 1., 1.],\n",
       "       [1., 3., 1., 1., 1.],\n",
       "       [1., 3., 1., 1., 1.]])"
      ]
     },
     "execution_count": 97,
     "metadata": {},
     "output_type": "execute_result"
    }
   ],
   "source": [
    "pools_expected"
   ]
  },
  {
   "cell_type": "code",
   "execution_count": null,
   "metadata": {},
   "outputs": [],
   "source": []
  }
 ],
 "metadata": {
  "kernelspec": {
   "display_name": "Python 3",
   "language": "python",
   "name": "python3"
  },
  "language_info": {
   "codemirror_mode": {
    "name": "ipython",
    "version": 3
   },
   "file_extension": ".py",
   "mimetype": "text/x-python",
   "name": "python",
   "nbconvert_exporter": "python",
   "pygments_lexer": "ipython3",
   "version": "3.7.1"
  }
 },
 "nbformat": 4,
 "nbformat_minor": 2
}
