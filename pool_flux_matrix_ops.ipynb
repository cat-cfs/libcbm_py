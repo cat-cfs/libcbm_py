{
 "cells": [
  {
   "cell_type": "markdown",
   "metadata": {},
   "source": [
    "# LibCBM Pool, and Flux Matrix Operations #\n",
    "This notebook demonstrates LibCBM matrix functionaliy.  These functions can be used to inject flows into a LibCBM application directly from python.\n",
    "\n",
    "\n",
    "It also performs tests by running equivalent matrix operations using the numpy matmul function, and comparing the output."
   ]
  },
  {
   "cell_type": "code",
   "execution_count": 1,
   "metadata": {},
   "outputs": [],
   "source": [
    "from libcbm.wrapper.libcbmwrapper import LibCBMWrapper\n",
    "from libcbm.configuration import libcbmconfig\n",
    "from libcbm.configuration import cbm_defaults\n"
   ]
  },
  {
   "cell_type": "code",
   "execution_count": 2,
   "metadata": {},
   "outputs": [],
   "source": [
    "import os\n",
    "import numpy as np\n",
    "import scipy.sparse\n"
   ]
  },
  {
   "cell_type": "markdown",
   "metadata": {},
   "source": []
  },
  {
   "cell_type": "code",
   "execution_count": 3,
   "metadata": {},
   "outputs": [],
   "source": [
    "dllpath = r'D:\\CODE\\work_related\\LibCBM\\LibCBM_Build\\build\\LibCBM\\Release\\LibCBM.dll'\n",
    "def load_dll(config):\n",
    "    dlldir = os.path.dirname(dllpath)\n",
    "    cwd = os.getcwd()\n",
    "    os.chdir(dlldir)\n",
    "    dll = LibCBMWrapper(dllpath)\n",
    "    os.chdir(cwd)\n",
    "    dll.Initialize(libcbmconfig.to_string(config))\n",
    "    return dll\n",
    "\n",
    "def create_pools(names):\n",
    "    return [{'name': x, 'id': i+1, 'index': i} for i,x in enumerate(names)]\n",
    "\n",
    "def create_pools_by_name(pools):\n",
    "    return {x[\"name\"]: x for x in pools}\n",
    "\n",
    "def to_coordinate(matrix):\n",
    "    '''convert the specified matrix to a matrix of coordinate triples'''\n",
    "    coo = scipy.sparse.coo_matrix(matrix)\n",
    "    return np.column_stack((coo.row, coo.col, coo.data))\n",
    "    "
   ]
  },
  {
   "cell_type": "markdown",
   "metadata": {},
   "source": [
    "## ComputePools ##\n",
    "\n",
    "This demonstrates a one of the ComputePools core function of LibCBM.  "
   ]
  },
  {
   "cell_type": "markdown",
   "metadata": {},
   "source": [
    "Given a matrix of pool values (where the columns represent specific pool, and the rows represent land units) Perform an arbitrary number of recursive vector matrix products.\n"
   ]
  },
  {
   "cell_type": "code",
   "execution_count": 4,
   "metadata": {},
   "outputs": [],
   "source": [
    "def ComputePools(pools, ops, op_indices):\n",
    "    '''\n",
    "    Runs the ComputePools libCBM function based on the specified numpy pool matrix, and the specified matrix ops.\n",
    "    @param pools a matrix of pool values of dimension nstands by npools\n",
    "    @param ops list of list of numpy matrices, the major dimension is nops, and the minor dimension may be jagged.\n",
    "           Each matrix is of dimension npools by npools\n",
    "    @param op_indices An nstands by nops matrix, where each column is a vector of indices to the jagged minor \n",
    "           dimension of the ops parameter\n",
    "    '''\n",
    "    pools = pools.copy()\n",
    "    pooldef = create_pools([str(x) for x in range(pools.shape[1])])\n",
    "    dll = load_dll({\n",
    "        \"pools\": pooldef,\n",
    "        \"flux_indicators\": []\n",
    "    })\n",
    "    op_ids = []\n",
    "    for i,op in enumerate(ops):\n",
    "        op_id = dll.AllocateOp(pools.shape[0])\n",
    "        op_ids.append(op_id)\n",
    "        #The set op function accepts a matrix of coordinate triples.  \n",
    "        #In LibCBM matrices are stored in a sparse format, so 0 values can be omitted from the parameter\n",
    "        dll.SetOp(op_id, [to_coordinate(x) for x in op], \n",
    "                  np.ascontiguousarray(op_indices[:,i]))\n",
    "        \n",
    "    dll.ComputePools(op_ids, pools)\n",
    "    \n",
    "    return pools\n",
    "        "
   ]
  },
  {
   "cell_type": "markdown",
   "metadata": {},
   "source": [
    "Introduction: A single pool/matrix operation \n"
   ]
  },
  {
   "cell_type": "code",
   "execution_count": 5,
   "metadata": {},
   "outputs": [
    {
     "name": "stdout",
     "output_type": "stream",
     "text": [
      "summed difference: 0.0\n",
      "max difference: 0.0\n"
     ]
    }
   ],
   "source": [
    "pools = np.ones((1,5))\n",
    "\n",
    "mat = np.array(\n",
    "    [[1,0.5,0,0,0],\n",
    "     [0,1,0,0,0],\n",
    "     [0,0,1,0,0],\n",
    "     [0,0,0,1,0],\n",
    "     [0,0,0,0,1]])\n",
    "\n",
    "op_indices = np.array([[0]], dtype=np.uintp)\n",
    "pools_test = ComputePools(pools,[[mat]], op_indices)\n",
    "\n",
    "#create the expected result using the numpy implementation\n",
    "pools_expected = np.matmul(pools, mat)\n",
    "\n",
    "print(\"summed difference: {}\".format((pools_expected-pools_test).sum()))\n",
    "print(\"max difference: {}\".format((pools_expected-pools_test).max()))\n"
   ]
  },
  {
   "cell_type": "markdown",
   "metadata": {},
   "source": [
    "Scale up to a couple of pool vectors.  Multiply the single matrix by each pool vector."
   ]
  },
  {
   "cell_type": "code",
   "execution_count": 6,
   "metadata": {
    "scrolled": false
   },
   "outputs": [
    {
     "name": "stdout",
     "output_type": "stream",
     "text": [
      "summed difference: 0.0\n",
      "max difference: 0.0\n"
     ]
    }
   ],
   "source": [
    "nstands = 10\n",
    "npools = 5\n",
    "nops = 1\n",
    "pools = np.ones((nstands,npools))\n",
    "\n",
    "#required to be a square mtrix of order n-pools\n",
    "mat = np.array(\n",
    "    [[1,0.5,0,0,0],\n",
    "     [0,1,0,0,0],\n",
    "     [0,0,1,0,0],\n",
    "     [0,0,0,1,0],\n",
    "     [0,0,0,0,1]])\n",
    "\n",
    "op_indices = np.zeros((nops,nstands), dtype=np.uintp)\n",
    "pools_test = ComputePools(pools,[[mat]], op_indices)\n",
    "\n",
    "\n",
    "#create the expected result using the numpy implementation\n",
    "pools_expected = np.zeros((10,5))\n",
    "for i in range(nstands):\n",
    "    pools_expected[i,:] = np.matmul(pools[i,:], mat)\n",
    "\n",
    "print(\"summed difference: {}\".format((pools_expected-pools_test).sum()))\n",
    "print(\"max difference: {}\".format((pools_expected-pools_test).max()))"
   ]
  },
  {
   "cell_type": "markdown",
   "metadata": {},
   "source": [
    "Now scale up to a couple of matrices."
   ]
  },
  {
   "cell_type": "code",
   "execution_count": 7,
   "metadata": {},
   "outputs": [
    {
     "name": "stdout",
     "output_type": "stream",
     "text": [
      "summed difference: 0.0\n",
      "max difference: 0.0\n"
     ]
    }
   ],
   "source": [
    "nstands = 10\n",
    "npools = 5\n",
    "nops = 1\n",
    "pools = np.ones((nstands,npools))\n",
    "\n",
    "#required to be a square mtrix of order n-pools\n",
    "mat0 = np.array(\n",
    "    [[1,0.5,0,0,0],\n",
    "     [0,1,0,0,0],\n",
    "     [0,0,1,0,0],\n",
    "     [0,0,0,1,0],\n",
    "     [0,0,0,0,1]])\n",
    "\n",
    "mat1 = np.array(\n",
    "    [[1,1,0,0,0],\n",
    "     [0,1.0,0,0,0],\n",
    "     [0,0,1,0,0],\n",
    "     [0,0,0,1,0],\n",
    "     [0,0,0,0,1]])\n",
    "\n",
    "mats = [[mat0,mat1]]\n",
    "\n",
    "op0_indices = [0,0,0,0,0,1,1,1,1,1] #the first 5 stands use mat0, and the sencond 5 use mat1\n",
    "op_indices = np.transpose(np.array([op0_indices], dtype=np.uintp))\n",
    "pools_test = ComputePools(pools, mats, op_indices)\n",
    "\n",
    "\n",
    "#create the expected result using the numpy implementation\n",
    "pools_expected = np.zeros((10,5))\n",
    "for i in range(nstands):\n",
    "    mat = mats[0][op_indices[i,0]]\n",
    "    pools_expected[i,:] = np.matmul(pools[i,:], mat)\n",
    "\n",
    "print(\"summed difference: {}\".format((pools_expected-pools_test).sum()))\n",
    "print(\"max difference: {}\".format((pools_expected-pools_test).max()))"
   ]
  },
  {
   "cell_type": "markdown",
   "metadata": {},
   "source": [
    "now expand to multiple ops"
   ]
  },
  {
   "cell_type": "code",
   "execution_count": 8,
   "metadata": {},
   "outputs": [
    {
     "name": "stdout",
     "output_type": "stream",
     "text": [
      "summed difference: 0.0\n",
      "max difference: 0.0\n"
     ]
    }
   ],
   "source": [
    "nstands = 10\n",
    "npools = 5\n",
    "nops = 2\n",
    "pools = np.ones((nstands,npools))\n",
    "\n",
    "#matrices here are named mat_i_j where i is the op index, and j is the mat index\n",
    "mat_0_0 = np.array(\n",
    "    [[1,0.5,0,0,0],\n",
    "     [0,1,0,0,0],\n",
    "     [0,0,1,0,0],\n",
    "     [0,0,0,1,0],\n",
    "     [0,0,0,0,1]])\n",
    "\n",
    "mat_0_1 = np.array(\n",
    "    [[1,1,0,0,0],\n",
    "     [0,1.0,0,0,0],\n",
    "     [0,0,1,0,0],\n",
    "     [0,0,0,1,0],\n",
    "     [0,0,0,0,1]])\n",
    "\n",
    "mat_1_0 = np.array(\n",
    "    [[1,0.5,0,0,0],\n",
    "     [0,1,0,0,0],\n",
    "     [0,0,1,0,0],\n",
    "     [0,0,0,1,0],\n",
    "     [0,0,0,0,1]])\n",
    "\n",
    "mat_1_1 = np.array(\n",
    "    [[1,1,0,0,0],\n",
    "     [0,1.0,0,0,0],\n",
    "     [0,0,1,0,0],\n",
    "     [0,0,0,1,0],\n",
    "     [0,0,0,0,1]])\n",
    "\n",
    "mats = [[mat_0_0, mat_0_1],\n",
    "        [mat_1_0, mat_1_1]]\n",
    "\n",
    "op0_indices = [0,0,0,0,0,1,1,1,1,1] \n",
    "op1_indices = [0,0,0,0,0,1,1,1,1,1]\n",
    "op_indices = np.transpose(np.array([op0_indices,op1_indices], dtype=np.uintp))\n",
    "pools_test = ComputePools(pools, mats, op_indices)\n",
    "\n",
    "\n",
    "#create the expected result using the numpy implementation\n",
    "pools_expected = np.zeros((10,5))\n",
    "pools_working = pools.copy() #working variable required\n",
    "for i in range(nops):\n",
    "    for k in range(nstands):\n",
    "        mat = mats[i][op_indices[k,i]]\n",
    "        pools_working[k,:] = np.matmul(pools_working[k,:], mat)\n",
    "        \n",
    "pools_expected = pools_working\n",
    "print(\"summed difference: {}\".format((pools_expected-pools_test).sum()))\n",
    "print(\"max difference: {}\".format((pools_expected-pools_test).max()))"
   ]
  },
  {
   "cell_type": "markdown",
   "metadata": {},
   "source": [
    "randomized test versus np.matmul"
   ]
  },
  {
   "cell_type": "code",
   "execution_count": 9,
   "metadata": {},
   "outputs": [
    {
     "name": "stdout",
     "output_type": "stream",
     "text": [
      "mean difference: -40666016.069716774\n",
      "summed difference: -298651222016.0\n",
      "max difference: 12884901888.0\n",
      "all close [rtol=1e-12, atol=1e-15]: True\n"
     ]
    }
   ],
   "source": [
    "nstands = np.random.randint(1,1000+1)\n",
    "npools = np.random.randint(3,25)\n",
    "nops = np.random.randint(1,20)\n",
    "pools = (np.random.rand(nstands,npools)-0.5)*1e15\n",
    "\n",
    "mats = []\n",
    "op_indices = np.zeros((nstands,nops), dtype=np.uintp)\n",
    "for i in range(nops):\n",
    "    n_op_mats = int(np.random.rand(1)[0]*nstands)\n",
    "    if n_op_mats == 0:\n",
    "        n_op_mats = 1\n",
    "    op_indices[:,i] = np.floor((np.random.rand(nstands)*n_op_mats)).astype(np.uintp)\n",
    "    op_mats = []\n",
    "    for j in range(n_op_mats):\n",
    "        op_mats.append(np.random.rand(npools,npools)) #create a random square matrix\n",
    "    mats.append(op_mats)\n",
    "\n",
    "pools_test = ComputePools(pools, mats, op_indices)\n",
    "\n",
    "#create the expected result using the numpy implementation\n",
    "pools_working = pools.copy() #working variable required\n",
    "for i in range(nops):\n",
    "    for k in range(nstands):\n",
    "        mat = mats[i][op_indices[k,i]]\n",
    "        pools_working[k,:] = np.matmul(pools_working[k,:], mat)\n",
    "\n",
    "pools_expected = pools_working\n",
    "print(\"mean difference: {}\".format((pools_expected-pools_test).mean()))\n",
    "print(\"summed difference: {}\".format((pools_expected-pools_test).sum()))\n",
    "print(\"max difference: {}\".format((pools_expected-pools_test).max()))\n",
    "print(\"all close [rtol=1e-12, atol=1e-15]: {}\".format(np.allclose(pools_expected,pools_test,rtol=1e-12, atol=1e-15)))"
   ]
  },
  {
   "cell_type": "markdown",
   "metadata": {},
   "source": [
    "## Flux Indicators ##"
   ]
  },
  {
   "cell_type": "code",
   "execution_count": 10,
   "metadata": {},
   "outputs": [],
   "source": [
    "def create_flux_indicator(pools_by_name, process_id, sources, sinks):\n",
    "    return {\n",
    "       'id': None,\n",
    "       'index': None,\n",
    "       'process_id': process_id,\n",
    "       'source_pools': [pools_by_name[x][\"id\"] for x in sources],\n",
    "       'sink_pools': [pools_by_name[x][\"id\"] for x in sinks]\n",
    "   }\n",
    "\n",
    "def append_flux_indicator(collection, flux_indicator):\n",
    "    flux_indicator[\"index\"] = len(collection)\n",
    "    flux_indicator[\"id\"] = len(collection)+1\n",
    "    collection.append(flux_indicator)\n",
    "\n",
    "def ComputeFlux(pools, poolnames, ops, op_indices, op_processes, flux_indicators):\n",
    "    pools = pools.copy()\n",
    "    flux = np.zeros((pools.shape[0], len(flux_indicators)))\n",
    "    pooldef = create_pools([poolnames[x] for x in range(pools.shape[1])])\n",
    "    pools_by_name = create_pools_by_name(pooldef)\n",
    "    fi_collection = []\n",
    "    for f in flux_indicators:\n",
    "        fi = create_flux_indicator(pools_by_name, f[\"process_id\"], f[\"sources\"], f[\"sinks\"])\n",
    "        append_flux_indicator(fi_collection, fi)\n",
    "    dll = load_dll({\n",
    "        \"pools\": pooldef,\n",
    "        \"flux_indicators\": fi_collection\n",
    "    })\n",
    "    op_ids = []\n",
    "    for i,op in enumerate(ops):\n",
    "        op_id = dll.AllocateOp(pools.shape[0])\n",
    "        op_ids.append(op_id)\n",
    "        dll.SetOp(op_id, [to_coordinate(x) for x in op], \n",
    "                  np.ascontiguousarray(op_indices[:,i]))\n",
    "        \n",
    "    dll.ComputeFlux(op_ids, op_processes, pools, flux)\n",
    "    return pools, flux\n"
   ]
  },
  {
   "cell_type": "code",
   "execution_count": 11,
   "metadata": {},
   "outputs": [
    {
     "name": "stdout",
     "output_type": "stream",
     "text": [
      "pool mean difference: -6.468950711511396e-15\n",
      "pool summed difference: -2.8042901334401904e-11\n",
      "pool max difference: 1.0913936421275139e-11\n",
      "pool allclose[rtol=1e-12, atol=1e-15]: True\n",
      "flux mean difference: -3.457537985253483e-15\n",
      "flux summed difference: -1.1990741732859078e-11\n",
      "flux max difference: 5.4569682106375694e-12\n",
      "flux allclose[rtol=1e-12, atol=1e-15]: True\n"
     ]
    }
   ],
   "source": [
    "\n",
    "fi = [\n",
    "    #with this flux indicator, we are capturing all flows from the \"a\" pool to any of the other pools\n",
    "    {\"process_id\": 1, \"sinks\": [\"b\",\"c\",\"d\",\"e\"], \"sources\": [\"a\"]},\n",
    "    #and with this one, we are capturing all flows to the \"a\" pool from any of the other pools\n",
    "    {\"process_id\": 2, \"sinks\": [\"a\"], \"sources\": [\"b\",\"c\",\"d\",\"e\"]},\n",
    "    {\"process_id\": 2, \"sinks\": [\"a\"], \"sources\": [\"a\"]},\n",
    "    {\"process_id\": 3, \"sinks\": [\"d\",\"e\"], \"sources\": [\"b\",\"c\"]},\n",
    "]\n",
    "unique_process_ids = {x[\"process_id\"] for x in fi} \n",
    "poolnames = [\"a\",\"b\",\"c\",\"d\",\"e\"]\n",
    "pool_index = {x:i for i,x in enumerate(poolnames)}\n",
    "nstands = np.random.randint(1,1000+1)\n",
    "npools = len(poolnames)\n",
    "nops = np.random.randint(1,20)\n",
    "pools = (np.random.rand(nstands,npools)-0.5)*0.1\n",
    "\n",
    "I = np.identity(npools)\n",
    "mats = []\n",
    "op_indices = np.zeros((nstands,nops), dtype=np.uintp)\n",
    "for i in range(nops):\n",
    "    n_op_mats = int(np.random.rand(1)[0]*nstands)\n",
    "    if n_op_mats == 0:\n",
    "        n_op_mats = 1\n",
    "    op_indices[:,i] = np.floor((np.random.rand(nstands)*n_op_mats)).astype(np.uintp)\n",
    "    op_mats = []\n",
    "    for j in range(n_op_mats):\n",
    "        op_mats.append(np.random.rand(npools,npools)) #create a random square matrix\n",
    "    mats.append(op_mats)\n",
    "\n",
    "#evenly assigns ops to the defined process ids\n",
    "op_processes = [x%len(unique_process_ids)+1 for x in range(nops)] \n",
    "pools_test,flux_test = ComputeFlux(pools, poolnames, mats, op_indices, op_processes, fi)\n",
    "\n",
    "#create the expected result using the numpy implementation\n",
    "#this fully emulates the ComputeFlux function, and computes an \n",
    "#independant result against which we check differences\n",
    "\n",
    "pools_working = pools.copy() #working variable required\n",
    "flux_expected = np.zeros((nstands,len(fi)))\n",
    "for i in range(nops):\n",
    "    for k in range(nstands):\n",
    "        mat = mats[i][op_indices[k,i]]\n",
    "        flux = np.matmul(np.diag(pools_working[k,:]), (mat-I))\n",
    "        for i_f, f in enumerate(fi):\n",
    "            process_id = op_processes[i]\n",
    "            if(f[\"process_id\"] != process_id):\n",
    "                continue\n",
    "            for src in f[\"sources\"]:\n",
    "                for sink in f[\"sinks\"]:\n",
    "                    flux_expected[k,i_f] += flux[pool_index[src],pool_index[sink]]\n",
    "        pools_working[k,:] = np.matmul(pools_working[k,:], mat)\n",
    "\n",
    "pools_expected = pools_working\n",
    "print(\"pool mean difference: {}\".format((pools_expected-pools_test).mean()))\n",
    "print(\"pool summed difference: {}\".format((pools_expected-pools_test).sum()))\n",
    "print(\"pool max difference: {}\".format((pools_expected-pools_test).max()))\n",
    "print(\"pool allclose[rtol=1e-12, atol=1e-15]: {}\".format(np.allclose(pools_expected,pools_test,rtol=1e-12, atol=1e-15)))\n",
    "\n",
    "print(\"flux mean difference: {}\".format((flux_expected-flux_test).mean()))\n",
    "print(\"flux summed difference: {}\".format((flux_expected-flux_test).sum()))\n",
    "print(\"flux max difference: {}\".format((flux_expected-flux_test).max()))\n",
    "print(\"flux allclose[rtol=1e-12, atol=1e-15]: {}\".format(np.allclose(flux_expected,flux_test,rtol=1e-12, atol=1e-15)))"
   ]
  },
  {
   "cell_type": "code",
   "execution_count": null,
   "metadata": {},
   "outputs": [],
   "source": []
  }
 ],
 "metadata": {
  "kernelspec": {
   "display_name": "Python 3",
   "language": "python",
   "name": "python3"
  },
  "language_info": {
   "codemirror_mode": {
    "name": "ipython",
    "version": 3
   },
   "file_extension": ".py",
   "mimetype": "text/x-python",
   "name": "python",
   "nbconvert_exporter": "python",
   "pygments_lexer": "ipython3",
   "version": "3.7.3"
  }
 },
 "nbformat": 4,
 "nbformat_minor": 2
}
