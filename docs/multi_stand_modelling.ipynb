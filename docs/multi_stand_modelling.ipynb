{
 "cells": [
  {
   "cell_type": "markdown",
   "id": "5f0fc458",
   "metadata": {},
   "source": [
    "# Multi stand level modelling in libcbm"
   ]
  },
  {
   "cell_type": "code",
   "execution_count": 1,
   "id": "9f64044e",
   "metadata": {},
   "outputs": [],
   "source": [
    "from libcbm.model.cbm import cbm_variables\n",
    "from libcbm.model.cbm import cbm_simulator\n",
    "from libcbm.model.cbm.cbm_output import CBMOutput\n",
    "from libcbm.model.cbm.stand_cbm_factory import StandCBMFactory\n",
    "from libcbm.storage import dataframe\n",
    "import pandas as pd\n",
    "import numpy as np"
   ]
  },
  {
   "cell_type": "markdown",
   "id": "bc413246",
   "metadata": {},
   "source": [
    "define the CBM classifiers"
   ]
  },
  {
   "cell_type": "code",
   "execution_count": 2,
   "id": "eabb4e64",
   "metadata": {},
   "outputs": [],
   "source": [
    "classifiers = {\n",
    "    \"c1\": [\"c1_v1\"],\n",
    "    \"c2\": [\"c2_v1\"],\n",
    "}"
   ]
  },
  {
   "cell_type": "markdown",
   "id": "6d1e057f",
   "metadata": {},
   "source": [
    "define one or more merchantable volumes.  The relationship between stands and volumes is defined by the classifier sets."
   ]
  },
  {
   "cell_type": "code",
   "execution_count": 3,
   "id": "6e2fefec",
   "metadata": {},
   "outputs": [],
   "source": [
    "merch_volumes = [\n",
    "    {\n",
    "        \"classifier_set\": [\"c1_v1\", \"?\"],\n",
    "        \"merch_volumes\": [\n",
    "            {\n",
    "                \"species\": \"Spruce\",\n",
    "                \"age_volume_pairs\": [\n",
    "                    [0, 0],\n",
    "                    [50, 100],\n",
    "                    [100, 150],\n",
    "                    [150, 200],\n",
    "                ],\n",
    "            }\n",
    "        ],\n",
    "    }\n",
    "]"
   ]
  },
  {
   "cell_type": "markdown",
   "id": "dd4524c8",
   "metadata": {},
   "source": [
    "define the inventory to simulate"
   ]
  },
  {
   "cell_type": "code",
   "execution_count": 4,
   "id": "4c0f5c82",
   "metadata": {},
   "outputs": [],
   "source": [
    "n_steps = 50\n",
    "n_stands = 1000\n",
    "inventory = dataframe.from_pandas(\n",
    "    pd.DataFrame(\n",
    "        index=list(range(0, n_stands)),\n",
    "        columns=[\n",
    "            \"c1\",\n",
    "            \"c2\",\n",
    "            \"admin_boundary\",\n",
    "            \"eco_boundary\",\n",
    "            \"age\",\n",
    "            \"area\",\n",
    "            \"delay\",\n",
    "            \"land_class\",\n",
    "            \"afforestation_pre_type\",\n",
    "            \"historic_disturbance_type\",\n",
    "            \"last_pass_disturbance_type\",\n",
    "        ],\n",
    "        data=[\n",
    "            [\n",
    "                \"c1_v1\",\n",
    "                \"c2_v1\",\n",
    "                \"Ontario\",\n",
    "                \"Mixedwood Plains\",\n",
    "                15,\n",
    "                1.0,\n",
    "                0,\n",
    "                \"UNFCCC_FL_R_FL\",\n",
    "                \"None\",\n",
    "                \"Wildfire\",\n",
    "                \"Wildfire\",\n",
    "            ]\n",
    "        ],\n",
    "    )\n",
    ")"
   ]
  },
  {
   "cell_type": "markdown",
   "id": "7cfd0d33",
   "metadata": {},
   "source": [
    "simulate using `StandCBMFactory`\n",
    "\n",
    "note pre-dynamics func argument may be used to inspect and or modify the CBM state, variables and parameters in the simulation loop.  In this example it is used to assign a disturbance type to all stands on timestep = 10"
   ]
  },
  {
   "cell_type": "code",
   "execution_count": 5,
   "id": "4edf04ca",
   "metadata": {},
   "outputs": [],
   "source": [
    "def pre_dynamics(t, cbm_vars):\n",
    "    if t == 10:\n",
    "        parameters = cbm_vars.parameters.to_pandas()\n",
    "        # note type changes will not be allowed in libcbm, so care must be used when using pandas\n",
    "        parameters.loc[:, \"disturbance_type\"] = np.int32(1)\n",
    "        cbm_vars.parameters = dataframe.from_pandas(parameters)\n",
    "    else:\n",
    "        parameters = cbm_vars.parameters.to_pandas()\n",
    "        parameters.loc[:, \"disturbance_type\"] = np.int32(0)\n",
    "        cbm_vars.parameters = dataframe.from_pandas(parameters)\n",
    "    return cbm_vars\n",
    "\n",
    "\n",
    "n_stands = inventory.n_rows\n",
    "\n",
    "cbm_factory = StandCBMFactory(classifiers, merch_volumes)\n",
    "csets, inv = cbm_factory.prepare_inventory(inventory)\n",
    "\n",
    "with cbm_factory.initialize_cbm() as cbm:\n",
    "    cbm_output = CBMOutput(\n",
    "        classifier_map=cbm_factory.classifier_value_names,\n",
    "        disturbance_type_map=cbm_factory.disturbance_types,\n",
    "    )\n",
    "    cbm_simulator.simulate(\n",
    "        cbm,\n",
    "        n_steps=n_steps,\n",
    "        classifiers=csets,\n",
    "        inventory=inv,\n",
    "        pre_dynamics_func=pre_dynamics,\n",
    "        reporting_func=cbm_output.append_simulation_result,\n",
    "    )"
   ]
  },
  {
   "cell_type": "markdown",
   "id": "ff816825",
   "metadata": {},
   "source": [
    "plot the mean age to confirm the disturbance event had an effect on age"
   ]
  },
  {
   "cell_type": "code",
   "execution_count": 6,
   "id": "4233a0fa",
   "metadata": {},
   "outputs": [
    {
     "data": {
      "text/plain": [
       "<AxesSubplot:xlabel='timestep'>"
      ]
     },
     "execution_count": 6,
     "metadata": {},
     "output_type": "execute_result"
    },
    {
     "data": {
      "image/png": "[encoded data removed]",
      "text/plain": [
       "<Figure size 432x288 with 1 Axes>"
      ]
     },
     "metadata": {
      "needs_background": "light"
     },
     "output_type": "display_data"
    }
   ],
   "source": [
    "cbm_output.state.to_pandas()[[\"timestep\", \"age\"]].groupby(\n",
    "    \"timestep\"\n",
    ").mean().plot()"
   ]
  }
 ],
 "metadata": {
  "kernelspec": {
   "display_name": "Python 3",
   "language": "python",
   "name": "python3"
  },
  "language_info": {
   "codemirror_mode": {
    "name": "ipython",
    "version": 3
   },
   "file_extension": ".py",
   "mimetype": "text/x-python",
   "name": "python",
   "nbconvert_exporter": "python",
   "pygments_lexer": "ipython3",
   "version": "3.9.7"
  },
  "vscode": {
   "interpreter": {
    "hash": "7036c97a19c395f990150d2191d95cb0b15bafc44a51c61e79499b778f47a5df"
   }
  }
 },
 "nbformat": 4,
 "nbformat_minor": 5
}
