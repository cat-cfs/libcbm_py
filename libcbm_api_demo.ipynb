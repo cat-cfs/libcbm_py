{
 "cells": [
  {
   "cell_type": "code",
   "execution_count": 25,
   "metadata": {},
   "outputs": [],
   "source": [
    "import os, json\n",
    "import numpy as np\n",
    "import pandas as pd"
   ]
  },
  {
   "cell_type": "code",
   "execution_count": 26,
   "metadata": {},
   "outputs": [],
   "source": [
    "from libcbmwrapper import LibCBMWrapper\n",
    "import libcbmconfig\n",
    "import cbm_defaults"
   ]
  },
  {
   "cell_type": "code",
   "execution_count": 27,
   "metadata": {},
   "outputs": [],
   "source": [
    "dllpath = r'C:\\dev\\LibCBM\\LibCBM\\x64\\Debug\\LibCBM.dll'\n",
    "dlldir = os.path.dirname(dllpath)\n",
    "cwd = os.getcwd()\n",
    "os.chdir(dlldir)\n",
    "dll = LibCBMWrapper(dllpath)\n",
    "os.chdir(cwd)"
   ]
  },
  {
   "cell_type": "code",
   "execution_count": 28,
   "metadata": {},
   "outputs": [],
   "source": [
    "\n",
    "dbpath = 'C:\\dev\\cbm_defaults\\cbm_defaults.db'\n",
    "test_dir = r\"C:\\dev\\LibCBM\\LibCBMPyTest\\tests\\test1\"\n",
    "yield_age_class_size = 10\n",
    "yield_table_path = os.path.join(test_dir, \"yield.csv\")\n",
    "yield_table_header_row = True\n",
    "transtions_path = os.path.join(test_dir, \"transition_rules.json\")\n",
    "\n",
    "#create a single classifier/classifier value for the single growth curve\n",
    "classifiers_config = libcbmconfig.classifier_config([\n",
    "    libcbmconfig.classifier(\"growth_curve\", [\n",
    "        libcbmconfig.classifier_value(\"growth_curve1\")\n",
    "    ])\n",
    "])\n",
    "\n",
    "\n",
    "transitions_config = []\n",
    "species_reference = cbm_defaults.load_species_reference(dbpath, \"en-CA\")\n",
    "\n",
    "merch_volume_to_biomass_config = libcbmconfig.merch_volume_to_biomass_config(\n",
    "    dbpath, [\n",
    "        libcbmconfig.merch_volume_curve(\n",
    "            classifier_set = ['growth_curve1'], \n",
    "            softwood_species_id = species_reference[\"Spruce\"][\"species_id\"], \n",
    "            softwood_age_volume_pairs=[\n",
    "                    (0, 0.0),\n",
    "                    (10, 10.0),\n",
    "                    (20, 15.0),\n",
    "                    (30, 20.0),\n",
    "                    (40, 25.0),\n",
    "                    (50, 30.0),\n",
    "                    (60, 35.0),\n",
    "                    (70, 40.0),\n",
    "                    (80, 45.0),\n",
    "                    (90, 50.0),\n",
    "                    (100, 55.0),\n",
    "                    (110, 60.0),\n",
    "                    (120, 65.0),\n",
    "                    (130, 70.0),\n",
    "                    (140, 75.0),\n",
    "                    (150, 80.0),\n",
    "                    (160, 85.625),\n",
    "                    (170, 90.73529412),\n",
    "                    (180, 95.84558824),\n",
    "                    (190, 100.9558824)],\n",
    "            hardwood_species_id=None,\n",
    "            hardwood_age_volume_pairs=None)\n",
    "    ]) \n",
    "\n"
   ]
  },
  {
   "cell_type": "code",
   "execution_count": 29,
   "metadata": {},
   "outputs": [
    {
     "data": {
      "text/plain": [
       "[{'id': 1, 'classifier_id': 1, 'value': 'growth_curve1', 'description': ''}]"
      ]
     },
     "execution_count": 29,
     "metadata": {},
     "output_type": "execute_result"
    }
   ],
   "source": [
    "config = libcbmconfig.initialize_config(\n",
    "    dbpath = dbpath,\n",
    "    merch_volume_to_biomass = merch_volume_to_biomass_config,\n",
    "    classifiers = classifiers_config,\n",
    "    transitions = transitions_config,\n",
    "    save_path = \"config.json\")\n",
    "config[\"classifier_values\"]"
   ]
  },
  {
   "cell_type": "code",
   "execution_count": 30,
   "metadata": {},
   "outputs": [],
   "source": [
    "\n",
    "dll.Initialize(libcbmconfig.to_string(config))"
   ]
  },
  {
   "cell_type": "code",
   "execution_count": 21,
   "metadata": {},
   "outputs": [],
   "source": [
    "op = dll.AllocateOp(1)"
   ]
  },
  {
   "cell_type": "code",
   "execution_count": 22,
   "metadata": {},
   "outputs": [],
   "source": [
    "nstands = 1\n",
    "age = np.array([0],dtype=np.int32)\n",
    "classifiers = np.ones((1,1), dtype=np.int32)\n",
    "spatial_units = np.array([3],dtype=np.int32)\n",
    "pools = np.zeros((1,len(config[\"pools\"])))\n",
    "pools[:,0] = 1.0\n"
   ]
  },
  {
   "cell_type": "code",
   "execution_count": 9,
   "metadata": {},
   "outputs": [
    {
     "data": {
      "text/plain": [
       "array([[1]])"
      ]
     },
     "execution_count": 9,
     "metadata": {},
     "output_type": "execute_result"
    }
   ],
   "source": [
    "classifiers"
   ]
  },
  {
   "cell_type": "code",
   "execution_count": 10,
   "metadata": {},
   "outputs": [],
   "source": [
    "dll.GetMerchVolumeGrowthOps(\n",
    "    op, \n",
    "    classifiers=classifiers,\n",
    "    pools=pools,\n",
    "    ages=age,\n",
    "    spatial_units=spatial_units,\n",
    "    last_dist_type=None,\n",
    "    time_since_last_dist=None,\n",
    "    growth_multipliers=None)"
   ]
  },
  {
   "cell_type": "code",
   "execution_count": 11,
   "metadata": {},
   "outputs": [],
   "source": [
    "dll.ComputePools([op], pools)"
   ]
  },
  {
   "cell_type": "code",
   "execution_count": 12,
   "metadata": {},
   "outputs": [
    {
     "data": {
      "text/plain": [
       "array([[1.        , 0.12552828, 0.71713448, 1.76236578, 0.358572  ,\n",
       "        0.21974434, 0.        , 0.        , 0.        , 0.        ,\n",
       "        0.        , 0.        , 0.        , 0.        , 0.        ,\n",
       "        0.        , 0.        , 0.        , 0.        , 0.        ,\n",
       "        0.        , 0.        , 0.        , 0.        , 0.        ,\n",
       "        0.        , 0.        ]])"
      ]
     },
     "execution_count": 12,
     "metadata": {},
     "output_type": "execute_result"
    }
   ],
   "source": [
    "pools"
   ]
  },
  {
   "cell_type": "code",
   "execution_count": 13,
   "metadata": {},
   "outputs": [
    {
     "data": {
      "text/plain": [
       "0"
      ]
     },
     "execution_count": 13,
     "metadata": {},
     "output_type": "execute_result"
    }
   ],
   "source": [
    "op"
   ]
  },
  {
   "cell_type": "code",
   "execution_count": 14,
   "metadata": {},
   "outputs": [
    {
     "data": {
      "text/plain": [
       "[{'name': 'Input', 'id': 0, 'index': 0},\n",
       " {'name': 'SoftwoodMerch', 'id': 1, 'index': 1},\n",
       " {'name': 'SoftwoodFoliage', 'id': 2, 'index': 2},\n",
       " {'name': 'SoftwoodOther', 'id': 3, 'index': 3},\n",
       " {'name': 'SoftwoodCoarseRoots', 'id': 4, 'index': 4},\n",
       " {'name': 'SoftwoodFineRoots', 'id': 5, 'index': 5},\n",
       " {'name': 'HardwoodMerch', 'id': 6, 'index': 6},\n",
       " {'name': 'HardwoodFoliage', 'id': 7, 'index': 7},\n",
       " {'name': 'HardwoodOther', 'id': 8, 'index': 8},\n",
       " {'name': 'HardwoodCoarseRoots', 'id': 9, 'index': 9},\n",
       " {'name': 'HardwoodFineRoots', 'id': 10, 'index': 10},\n",
       " {'name': 'AboveGroundVeryFastSoil', 'id': 11, 'index': 11},\n",
       " {'name': 'BelowGroundVeryFastSoil', 'id': 12, 'index': 12},\n",
       " {'name': 'AboveGroundFastSoil', 'id': 13, 'index': 13},\n",
       " {'name': 'BelowGroundFastSoil', 'id': 14, 'index': 14},\n",
       " {'name': 'MediumSoil', 'id': 15, 'index': 15},\n",
       " {'name': 'AboveGroundSlowSoil', 'id': 16, 'index': 16},\n",
       " {'name': 'BelowGroundSlowSoil', 'id': 17, 'index': 17},\n",
       " {'name': 'SoftwoodStemSnag', 'id': 18, 'index': 18},\n",
       " {'name': 'SoftwoodBranchSnag', 'id': 19, 'index': 19},\n",
       " {'name': 'HardwoodStemSnag', 'id': 20, 'index': 20},\n",
       " {'name': 'HardwoodBranchSnag', 'id': 21, 'index': 21},\n",
       " {'name': 'CO2', 'id': 22, 'index': 22},\n",
       " {'name': 'CH4', 'id': 23, 'index': 23},\n",
       " {'name': 'CO', 'id': 24, 'index': 24},\n",
       " {'name': 'NO2', 'id': 25, 'index': 25},\n",
       " {'name': 'Products', 'id': 26, 'index': 26}]"
      ]
     },
     "execution_count": 14,
     "metadata": {},
     "output_type": "execute_result"
    }
   ],
   "source": [
    "config[\"pools\"]"
   ]
  },
  {
   "cell_type": "code",
   "execution_count": null,
   "metadata": {},
   "outputs": [],
   "source": []
  }
 ],
 "metadata": {
  "kernelspec": {
   "display_name": "Python 3",
   "language": "python",
   "name": "python3"
  },
  "language_info": {
   "codemirror_mode": {
    "name": "ipython",
    "version": 3
   },
   "file_extension": ".py",
   "mimetype": "text/x-python",
   "name": "python",
   "nbconvert_exporter": "python",
   "pygments_lexer": "ipython3",
   "version": "3.7.1"
  }
 },
 "nbformat": 4,
 "nbformat_minor": 2
}
